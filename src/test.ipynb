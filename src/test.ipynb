{
 "cells": [
  {
   "cell_type": "code",
   "execution_count": null,
   "metadata": {},
   "outputs": [],
   "source": [
    "import pandas as pd\n",
    "movies_merged = pd.read_parquet(\"../datasets/movies_merged.parquet\")\n",
    "movies_merged_copy = movies_merged.copy()"
   ]
  },
  {
   "cell_type": "code",
   "execution_count": null,
   "metadata": {},
   "outputs": [],
   "source": [
    "movies_merged_copy"
   ]
  },
  {
   "cell_type": "code",
   "execution_count": null,
   "metadata": {},
   "outputs": [],
   "source": [
    "movies_merged_copy[movies_merged_copy[\"release_date\"].dt.month_name(locale='es_ES.utf8')== \"febrero\".capitalize()]"
   ]
  },
  {
   "cell_type": "code",
   "execution_count": null,
   "metadata": {},
   "outputs": [],
   "source": [
    "a = movies_merged_copy[movies_merged_copy[\"release_date\"].dt.month_name(locale='es_ES.utf8')== \"febrero\".capitalize()]\n",
    "a = a[\"title\"].count()\n",
    "\n",
    "type(int(a))"
   ]
  },
  {
   "cell_type": "code",
   "execution_count": null,
   "metadata": {},
   "outputs": [],
   "source": [
    "def votos_titulo (titulo:str):\n",
    "    titulo=titulo.lower()\n",
    "    df_title = movies_merged_copy[movies_merged_copy[\"title\"]==titulo]\n",
    "    cant_votos = list(df_title[\"vote_count\"])[0]\n",
    "    if(cant_votos<2000): \n",
    "        return print(f\"Lo siento, {titulo} cuenta solo con {cant_votos}, debes elegir una pelicula con almenos 2000\")\n",
    "    return print(f\"\"\"La película {titulo} fue estrenada en el año {int(list(df_title[\"release_year\"])[0])}\n",
    "    La misma cuenta con un total de {cant_votos} valoraciones, con un promedio de {list(df_title[\"vote_average\"])[0]}\"\"\")\n",
    "\n",
    "votos_titulo(\"toy story\")"
   ]
  },
  {
   "cell_type": "code",
   "execution_count": null,
   "metadata": {},
   "outputs": [],
   "source": [
    "movies_merged_copy[\"actors_names\"]"
   ]
  },
  {
   "cell_type": "code",
   "execution_count": null,
   "metadata": {},
   "outputs": [],
   "source": [
    "import numpy as np"
   ]
  },
  {
   "cell_type": "code",
   "execution_count": null,
   "metadata": {},
   "outputs": [],
   "source": [
    "movies_merged_copy[\"director_names\"].fillna(\"[]\",inplace=True)"
   ]
  },
  {
   "cell_type": "code",
   "execution_count": null,
   "metadata": {},
   "outputs": [],
   "source": [
    "# movies_merged_copy[\"director_names\"].as"
   ]
  },
  {
   "cell_type": "code",
   "execution_count": null,
   "metadata": {},
   "outputs": [],
   "source": [
    "\"lUnes\".capitalize()"
   ]
  },
  {
   "cell_type": "code",
   "execution_count": null,
   "metadata": {},
   "outputs": [],
   "source": [
    "def get_director(nombre):\n",
    "\n",
    "    nombre = nombre.title()\n",
    "    peliculas_return = {}\n",
    "    cuenta_dinero_total = 0\n",
    "\n",
    "    for nombres,i in zip(movies_merged_copy[\"director_names\"],range(movies_merged_copy.shape[0])):\n",
    "\n",
    "        if(isinstance(nombres,object) and nombre in nombres):\n",
    "\n",
    "            movie_title= movies_merged_copy[\"title\"].str.capitalize().iloc[i]\n",
    "            individual_return = movies_merged_copy[\"return\"].iloc[i]\n",
    "            release_year = movies_merged_copy[\"release_year\"].iloc[i]\n",
    "            budget = movies_merged_copy[\"budget\"].iloc[i]\n",
    "            revenue = movies_merged_copy[\"revenue\"].iloc[i]\n",
    "\n",
    "            peliculas_return[movie_title] = {\"retorno\": round(individual_return,2),\n",
    "                                            \"año_lanzamiento\": int(release_year),\n",
    "                                            \"costo\":budget,\n",
    "                                            \"revenue\":revenue}\n",
    "            cuenta_dinero_total += movies_merged_copy[\"return\"].iloc[i]\n",
    "\n",
    "    print(peliculas_return)\n",
    "    return print(f\"El director {nombre} consiguio un total de {round(cuenta_dinero_total,2)} mil dolares\")\n",
    "    \n",
    "get_director(\"Larry J. Franco\")"
   ]
  },
  {
   "cell_type": "code",
   "execution_count": null,
   "metadata": {},
   "outputs": [],
   "source": [
    "def get_actor(nombre):\n",
    "    nombre = nombre.title()\n",
    "    cuenta_movies = 0\n",
    "    cuenta_dinero = 0\n",
    "    for nombres,i in zip(movies_merged_copy[\"actors_names\"],range(movies_merged_copy.shape[0])):\n",
    "        # if(type(nombres) in [float,int] ): continue\n",
    "        if(isinstance(nombres,np.ndarray) and nombre in nombres and nombre not in movies_merged_copy[\"director_names\"][i]):\n",
    "            cuenta_movies +=1\n",
    "            cuenta_dinero += movies_merged_copy[\"return\"].iloc[i]\n",
    "    promedio = cuenta_movies/cuenta_dinero\n",
    "    return f\"El actor {nombre} participo en {cuenta_movies} peliculas consiguiendo un total de {round(cuenta_dinero,2)} mil dolares, con un promedio de {round(promedio,2)} mil dolares por pelicula\""
   ]
  },
  {
   "cell_type": "code",
   "execution_count": 27,
   "metadata": {},
   "outputs": [
    {
     "name": "stdout",
     "output_type": "stream",
     "text": [
      "that thing you do!\n",
      "neil young: heart of gold\n",
      "the ant bully\n",
      "evan almighty\n",
      "charlie wilson's war\n",
      "mamma mia!\n",
      "city of ember\n",
      "the great buck howard\n",
      "where the wild things are\n",
      "we stand alone together\n",
      "larry crowne\n",
      "olive kitteridge\n",
      "the pacific\n",
      "band of brothers\n"
     ]
    }
   ],
   "source": [
    "for index,row in movies_merged_copy.iterrows():\n",
    "    for i in row[\"director_names\"]:\n",
    "        if \"Tom Hanks\" in i:\n",
    "            print(row[\"title\"])"
   ]
  },
  {
   "cell_type": "code",
   "execution_count": 32,
   "metadata": {},
   "outputs": [
    {
     "name": "stdout",
     "output_type": "stream",
     "text": [
      "['Ruth Lambert' 'Gary Goetzman' 'Tom Hanks' 'Ken Mitchroney' 'John Debney'\n",
      " 'John A. Davis' 'William Fay' 'Thomas Tull']\n"
     ]
    }
   ],
   "source": [
    "for i in movies_merged_copy[movies_merged_copy[\"title\"]==\"the ant bully\"][\"director_names\"]:\n",
    "    print(i)"
   ]
  },
  {
   "cell_type": "code",
   "execution_count": null,
   "metadata": {},
   "outputs": [],
   "source": [
    "get_actor(\"tom hanks\")"
   ]
  }
 ],
 "metadata": {
  "kernelspec": {
   "display_name": "Python 3",
   "language": "python",
   "name": "python3"
  },
  "language_info": {
   "codemirror_mode": {
    "name": "ipython",
    "version": 3
   },
   "file_extension": ".py",
   "mimetype": "text/x-python",
   "name": "python",
   "nbconvert_exporter": "python",
   "pygments_lexer": "ipython3",
   "version": "3.12.3"
  }
 },
 "nbformat": 4,
 "nbformat_minor": 2
}
