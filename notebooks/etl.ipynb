{
 "cells": [
  {
   "cell_type": "markdown",
   "metadata": {},
   "source": [
    "# Proyecto Henry n° 1\n",
    "- En esta ocasion se realizara un <b>E.T.L</b>, <b>E.D.A</b> de dos archivos `.csv` a los cuales se le aplicara un modelo de `Machine Learning` para crear un \n",
    "<i>Sistema de Recomendacion <i>."
   ]
  },
  {
   "cell_type": "markdown",
   "metadata": {},
   "source": [
    "## Importar las librerias a utilizar"
   ]
  },
  {
   "cell_type": "code",
   "execution_count": 1,
   "metadata": {},
   "outputs": [],
   "source": [
    "import pandas as pd\n",
    "import numpy as np\n",
    "import ast\n",
    "from unidecode import unidecode"
   ]
  },
  {
   "cell_type": "markdown",
   "metadata": {},
   "source": [
    "### Lectura de los archivos `.csv`."
   ]
  },
  {
   "cell_type": "code",
   "execution_count": 2,
   "metadata": {},
   "outputs": [
    {
     "name": "stderr",
     "output_type": "stream",
     "text": [
      "C:\\Users\\Martin\\AppData\\Local\\Temp\\ipykernel_18956\\737807593.py:2: DtypeWarning: Columns (10) have mixed types. Specify dtype option on import or set low_memory=False.\n",
      "  movies = pd.read_csv('../datasets/movies_dataset.csv')\n"
     ]
    }
   ],
   "source": [
    "credits = pd.read_csv('../datasets/credits.csv')\n",
    "movies = pd.read_csv('../datasets/movies_dataset.csv')"
   ]
  },
  {
   "cell_type": "markdown",
   "metadata": {},
   "source": [
    "### Creacion de reporte, presentando una interfaz, acerca de los DataFrames de `movies` y `credits`"
   ]
  },
  {
   "cell_type": "code",
   "execution_count": null,
   "metadata": {},
   "outputs": [],
   "source": []
  },
  {
   "cell_type": "markdown",
   "metadata": {},
   "source": [
    "## DF movies - ETL\n",
    "* <p>Se realiza una copia del dataframe (df) como medida de no afectar al original<p>"
   ]
  },
  {
   "cell_type": "code",
   "execution_count": 3,
   "metadata": {},
   "outputs": [
    {
     "data": {
      "text/plain": [
       "adult                        0\n",
       "belongs_to_collection    40972\n",
       "budget                       0\n",
       "genres                       0\n",
       "homepage                 37684\n",
       "id                           0\n",
       "imdb_id                     17\n",
       "original_language           11\n",
       "original_title               0\n",
       "overview                   954\n",
       "popularity                   5\n",
       "poster_path                386\n",
       "production_companies         3\n",
       "production_countries         3\n",
       "release_date                87\n",
       "revenue                      6\n",
       "runtime                    263\n",
       "spoken_languages             6\n",
       "status                      87\n",
       "tagline                  25054\n",
       "title                        6\n",
       "video                        6\n",
       "vote_average                 6\n",
       "vote_count                   6\n",
       "dtype: int64"
      ]
     },
     "execution_count": 3,
     "metadata": {},
     "output_type": "execute_result"
    }
   ],
   "source": [
    "movies_copia = movies.copy()\n",
    "movies_copia.isna().sum()"
   ]
  },
  {
   "cell_type": "markdown",
   "metadata": {},
   "source": [
    "<p style=\"color:rgb(190,190,190)\">Se puede observar varias columnas con gran cantidad de valores nulos, por ende, seran eliminadas. A su vez, seran eliminadas aquellas columnas que no aporten valor<p>"
   ]
  },
  {
   "cell_type": "markdown",
   "metadata": {},
   "source": [
    "* Eliminacion de columnas"
   ]
  },
  {
   "cell_type": "code",
   "execution_count": 4,
   "metadata": {},
   "outputs": [],
   "source": [
    "delete_columns = [\"video\",\"imdb_id\",\"adult\",\"original_title\",\"poster_path\",\"homepage\",\"belongs_to_collection\"]\n",
    "\n",
    "movies_copia.drop(columns=delete_columns,inplace=True)\n",
    "\n",
    "# Eliminar las columnas que no serán utilizadas, video,imdb_id,adult,original_title,poster_path y homepage."
   ]
  },
  {
   "cell_type": "markdown",
   "metadata": {},
   "source": [
    "* Eliminamos posibles duplicados"
   ]
  },
  {
   "cell_type": "code",
   "execution_count": 5,
   "metadata": {},
   "outputs": [],
   "source": [
    "movies_copia.drop_duplicates(inplace=True)"
   ]
  },
  {
   "cell_type": "markdown",
   "metadata": {},
   "source": [
    "* Rellenamos valores nulos por 0 en los campos de las columnas <i>revenue</i> y <i>budget</i> "
   ]
  },
  {
   "cell_type": "code",
   "execution_count": 6,
   "metadata": {},
   "outputs": [
    {
     "name": "stdout",
     "output_type": "stream",
     "text": [
      "revenue    6\n",
      "budget     0\n",
      "dtype: int64\n"
     ]
    }
   ],
   "source": [
    "print(movies_copia[[\"revenue\",\"budget\"]].isna().sum())\n",
    "movies_copia.fillna(value={\"budget\":0,\"revenue\":0},inplace=True)"
   ]
  },
  {
   "cell_type": "markdown",
   "metadata": {},
   "source": [
    "* Eliminamos valores nulos del campo <i>release</i> con el fin de cambiar de cambiar el tipo de dato a `datetime`"
   ]
  },
  {
   "cell_type": "code",
   "execution_count": 7,
   "metadata": {},
   "outputs": [
    {
     "name": "stdout",
     "output_type": "stream",
     "text": [
      "3\n"
     ]
    }
   ],
   "source": [
    "movies_copia.dropna(subset=\"release_date\",inplace=True)\n",
    "# print(movies_copia[\"release_date\"].info()) #dtype: object\n",
    "movies_copia[\"release_date\"] = pd.to_datetime(movies_copia[\"release_date\"],format=\"%Y-%m-%d\",errors=\"coerce\").dropna()\n",
    "# print(movies_copia[\"release_date\"].info()) #dtype: datetime\n",
    "\n",
    "print(movies_copia[\"release_date\"].isna().sum())"
   ]
  },
  {
   "cell_type": "markdown",
   "metadata": {},
   "source": [
    "* Elimino valores nulos del campo genres"
   ]
  },
  {
   "cell_type": "code",
   "execution_count": 8,
   "metadata": {},
   "outputs": [],
   "source": [
    "# movies_copia.dropna(subset=\"genres\",inplace=True)"
   ]
  },
  {
   "cell_type": "markdown",
   "metadata": {},
   "source": [
    "* Creo una columna especifica para el año de lanzamiento"
   ]
  },
  {
   "cell_type": "code",
   "execution_count": 9,
   "metadata": {},
   "outputs": [],
   "source": [
    "movies_copia[\"release_year\"]=movies_copia[\"release_date\"].dropna().dt.year.astype(int)"
   ]
  },
  {
   "cell_type": "markdown",
   "metadata": {},
   "source": [
    "* Cambio a dato `int` los valores de la columna <i>id</i>\n",
    "<p style=\"color:gray\">Primero relazio cambios en registros extraños<p>"
   ]
  },
  {
   "cell_type": "code",
   "execution_count": 10,
   "metadata": {},
   "outputs": [],
   "source": [
    "movies_copia[\"id\"]=movies_copia[\"id\"].str.replace(\"-\",\"\")\n",
    "movies_copia[\"id\"] = movies_copia[\"id\"].astype(int)"
   ]
  },
  {
   "cell_type": "markdown",
   "metadata": {},
   "source": [
    "## Creamos la funcion para desanidar  los campos con diccionarios "
   ]
  },
  {
   "cell_type": "markdown",
   "metadata": {},
   "source": [
    "1) DataFrame-movies"
   ]
  },
  {
   "cell_type": "code",
   "execution_count": 11,
   "metadata": {},
   "outputs": [],
   "source": [
    "# DF-MOVIES\n",
    "def divide_columns(valores,indice, key=False,value=False):\n",
    "    \n",
    "    # cleaned_string = valores.replace(\" \", \"\")\n",
    "    list_of_dicts = ast.literal_eval(valores) #Toma un string como input y lo evalua como una estructura de python. string ---> lista de diccionaries.\n",
    "    new_values = []\n",
    "    if(len(list_of_dicts)==0): return np.nan\n",
    "    for i in range(len(list_of_dicts)):\n",
    "        if(value and list_of_dicts[i][key]==value):\n",
    "            new_values.append(list_of_dicts[i][indice])\n",
    "        if key==False:\n",
    "            new_values.append(list_of_dicts[i][indice])\n",
    "        # name_genre.append(list_of_dicts[i][\"name\"])\n",
    "    return list(set(new_values))\n",
    "\n",
    "id_genre = movies[\"genres\"].apply(lambda x: divide_columns(x,\"id\"))\n",
    "name_genre = movies[\"genres\"].apply(lambda x: divide_columns(x,\"name\"))"
   ]
  },
  {
   "cell_type": "markdown",
   "metadata": {},
   "source": [
    "**Realizamos el renombre de las columnas modificadas**"
   ]
  },
  {
   "cell_type": "code",
   "execution_count": 12,
   "metadata": {},
   "outputs": [],
   "source": [
    "id_genre= pd.DataFrame(id_genre).rename(columns={\"genres\":\"id_genre\"})\n",
    "name_genre= pd.DataFrame(name_genre).rename(columns={\"genres\":\"name_genre\"})"
   ]
  },
  {
   "cell_type": "markdown",
   "metadata": {},
   "source": [
    "* Concatenamos las nuevas columnas creadas"
   ]
  },
  {
   "cell_type": "code",
   "execution_count": 13,
   "metadata": {},
   "outputs": [
    {
     "data": {
      "text/html": [
       "<div>\n",
       "<style scoped>\n",
       "    .dataframe tbody tr th:only-of-type {\n",
       "        vertical-align: middle;\n",
       "    }\n",
       "\n",
       "    .dataframe tbody tr th {\n",
       "        vertical-align: top;\n",
       "    }\n",
       "\n",
       "    .dataframe thead th {\n",
       "        text-align: right;\n",
       "    }\n",
       "</style>\n",
       "<table border=\"1\" class=\"dataframe\">\n",
       "  <thead>\n",
       "    <tr style=\"text-align: right;\">\n",
       "      <th></th>\n",
       "      <th>budget</th>\n",
       "      <th>genres</th>\n",
       "      <th>id</th>\n",
       "      <th>original_language</th>\n",
       "      <th>overview</th>\n",
       "      <th>popularity</th>\n",
       "      <th>production_companies</th>\n",
       "      <th>production_countries</th>\n",
       "      <th>release_date</th>\n",
       "      <th>revenue</th>\n",
       "      <th>runtime</th>\n",
       "      <th>spoken_languages</th>\n",
       "      <th>status</th>\n",
       "      <th>tagline</th>\n",
       "      <th>title</th>\n",
       "      <th>vote_average</th>\n",
       "      <th>vote_count</th>\n",
       "      <th>release_year</th>\n",
       "      <th>id_genre</th>\n",
       "      <th>name_genre</th>\n",
       "    </tr>\n",
       "  </thead>\n",
       "  <tbody>\n",
       "    <tr>\n",
       "      <th>0</th>\n",
       "      <td>30000000</td>\n",
       "      <td>[{'id': 16, 'name': 'Animation'}, {'id': 35, '...</td>\n",
       "      <td>862.0</td>\n",
       "      <td>en</td>\n",
       "      <td>Led by Woody, Andy's toys live happily in his ...</td>\n",
       "      <td>21.946943</td>\n",
       "      <td>[{'name': 'Pixar Animation Studios', 'id': 3}]</td>\n",
       "      <td>[{'iso_3166_1': 'US', 'name': 'United States o...</td>\n",
       "      <td>1995-10-30</td>\n",
       "      <td>373554033.0</td>\n",
       "      <td>81.0</td>\n",
       "      <td>[{'iso_639_1': 'en', 'name': 'English'}]</td>\n",
       "      <td>Released</td>\n",
       "      <td>NaN</td>\n",
       "      <td>Toy Story</td>\n",
       "      <td>7.7</td>\n",
       "      <td>5415.0</td>\n",
       "      <td>1995.0</td>\n",
       "      <td>[16, 35, 10751]</td>\n",
       "      <td>[Family, Comedy, Animation]</td>\n",
       "    </tr>\n",
       "  </tbody>\n",
       "</table>\n",
       "</div>"
      ],
      "text/plain": [
       "     budget                                             genres     id  \\\n",
       "0  30000000  [{'id': 16, 'name': 'Animation'}, {'id': 35, '...  862.0   \n",
       "\n",
       "  original_language                                           overview  \\\n",
       "0                en  Led by Woody, Andy's toys live happily in his ...   \n",
       "\n",
       "  popularity                            production_companies  \\\n",
       "0  21.946943  [{'name': 'Pixar Animation Studios', 'id': 3}]   \n",
       "\n",
       "                                production_countries release_date  \\\n",
       "0  [{'iso_3166_1': 'US', 'name': 'United States o...   1995-10-30   \n",
       "\n",
       "       revenue  runtime                          spoken_languages    status  \\\n",
       "0  373554033.0     81.0  [{'iso_639_1': 'en', 'name': 'English'}]  Released   \n",
       "\n",
       "  tagline      title  vote_average  vote_count  release_year         id_genre  \\\n",
       "0     NaN  Toy Story           7.7      5415.0        1995.0  [16, 35, 10751]   \n",
       "\n",
       "                    name_genre  \n",
       "0  [Family, Comedy, Animation]  "
      ]
     },
     "execution_count": 13,
     "metadata": {},
     "output_type": "execute_result"
    }
   ],
   "source": [
    "movies_copia = pd.concat([movies_copia,id_genre,name_genre],axis=1)\n",
    "movies_copia.head(1)"
   ]
  },
  {
   "cell_type": "markdown",
   "metadata": {},
   "source": [
    "* Elimino los valores nulos de la columna titulo ya que no serviria de nada recomendar una pelicula sin titulo"
   ]
  },
  {
   "cell_type": "code",
   "execution_count": 14,
   "metadata": {},
   "outputs": [
    {
     "name": "stdout",
     "output_type": "stream",
     "text": [
      "103\n"
     ]
    }
   ],
   "source": [
    "print(movies_copia.title.isna().sum())\n",
    "movies_copia.dropna(subset=\"title\",inplace=True)"
   ]
  },
  {
   "cell_type": "code",
   "execution_count": 15,
   "metadata": {},
   "outputs": [
    {
     "data": {
      "text/plain": [
       "(45363, 20)"
      ]
     },
     "execution_count": 15,
     "metadata": {},
     "output_type": "execute_result"
    }
   ],
   "source": [
    "movies_copia.shape"
   ]
  },
  {
   "cell_type": "markdown",
   "metadata": {},
   "source": [
    "* Obtengo los titulos segun el genero"
   ]
  },
  {
   "cell_type": "code",
   "execution_count": 16,
   "metadata": {},
   "outputs": [
    {
     "data": {
      "text/plain": [
       "['Toy Story',\n",
       " 'Balto',\n",
       " 'Pocahontas',\n",
       " 'A Goofy Movie',\n",
       " 'Gumby: The Movie',\n",
       " 'The Swan Princess',\n",
       " 'The Lion King',\n",
       " 'The Secret Adventures of Tom Thumb',\n",
       " 'The Nightmare Before Christmas',\n",
       " 'The Pagemaster',\n",
       " 'Aladdin',\n",
       " 'Snow White and the Seven Dwarfs',\n",
       " 'Beauty and the Beast',\n",
       " 'Pinocchio',\n",
       " 'Heavy Metal',\n",
       " 'The Aristocats',\n",
       " 'All Dogs Go to Heaven 2',\n",
       " 'James and the Giant Peach',\n",
       " 'Space Jam',\n",
       " 'Oliver & Company',\n",
       " 'Institute Benjamenta, or This Dream People Call Human Life',\n",
       " 'Ghost in the Shell',\n",
       " 'A Close Shave',\n",
       " 'The Hunchback of Notre Dame',\n",
       " 'The Adventures of Pinocchio',\n",
       " 'The Land Before Time III: The Time of the Great Giving',\n",
       " 'Cinderella',\n",
       " 'Winnie the Pooh and the Blustery Day',\n",
       " 'The Three Caballeros',\n",
       " 'The Sword in the Stone',\n",
       " 'So Dear to My Heart',\n",
       " 'Dumbo',\n",
       " \"Pete's Dragon\",\n",
       " 'Bedknobs and Broomsticks',\n",
       " 'Alice in Wonderland',\n",
       " 'The Fox and the Hound',\n",
       " 'Aladdin and the King of Thieves',\n",
       " 'The Wrong Trousers',\n",
       " 'Faust',\n",
       " 'A Grand Day Out',\n",
       " 'Akira',\n",
       " 'Fantasia',\n",
       " 'Beavis and Butt-Head Do America',\n",
       " \"Cats Don't Dance\",\n",
       " 'Hercules',\n",
       " 'Anastasia',\n",
       " 'Meet the Deedles',\n",
       " 'Quest for Camelot',\n",
       " 'Mulan',\n",
       " 'Bambi',\n",
       " 'The Black Cauldron',\n",
       " 'The Great Mouse Detective',\n",
       " 'The Jungle Book',\n",
       " 'Lady and the Tramp',\n",
       " 'The Little Mermaid',\n",
       " 'One Hundred and One Dalmatians',\n",
       " 'Peter Pan',\n",
       " 'The Rescuers Down Under',\n",
       " 'The Rescuers',\n",
       " 'The Return of Jafar',\n",
       " 'Sleeping Beauty',\n",
       " 'Steamboat Willie',\n",
       " 'The Lord of the Rings',\n",
       " 'All Dogs Go to Heaven',\n",
       " \"Charlotte's Web\",\n",
       " 'Watership Down',\n",
       " 'The Secret of NIMH',\n",
       " 'An American Tail',\n",
       " 'An American Tail: Fievel Goes West',\n",
       " 'I Married a Strange Person!',\n",
       " 'Antz',\n",
       " 'The Rugrats Movie',\n",
       " \"A Bug's Life\",\n",
       " 'The Prince of Egypt',\n",
       " 'Fantastic Planet',\n",
       " 'The King and I',\n",
       " \"Doug's 1st Movie\",\n",
       " 'Tarzan',\n",
       " 'South Park: Bigger, Longer & Uncut',\n",
       " 'The Iron Giant',\n",
       " 'Little Nemo: Adventures In Slumberland',\n",
       " 'Perfect Blue',\n",
       " 'Yellow Submarine',\n",
       " 'Thumbelina',\n",
       " \"Gulliver's Travels\",\n",
       " 'Who Framed Roger Rabbit',\n",
       " 'Princess Mononoke',\n",
       " 'Robin Hood',\n",
       " 'Pokémon: The First Movie: Mewtwo Strikes Back',\n",
       " 'Toy Story 2',\n",
       " 'Stuart Little',\n",
       " 'Fantasia 2000',\n",
       " 'Batman: Mask of the Phantasm',\n",
       " 'The Tigger Movie',\n",
       " \"We're Back! A Dinosaur's Story\",\n",
       " 'Creature Comforts',\n",
       " 'The Road to El Dorado',\n",
       " 'Time Masters',\n",
       " 'Saludos Amigos',\n",
       " 'Dinosaur',\n",
       " 'Gandahar',\n",
       " 'American Pop',\n",
       " 'Titan A.E.',\n",
       " 'Chicken Run',\n",
       " 'The Adventures of Rocky & Bullwinkle',\n",
       " 'Fun & Fancy Free',\n",
       " 'Make Mine Music',\n",
       " 'Melody Time',\n",
       " 'Pokémon: The Movie 2000',\n",
       " 'Thomas and the Magic Railroad',\n",
       " 'Digimon: The Movie',\n",
       " 'The Adventures of Ichabod and Mr. Toad',\n",
       " 'Rugrats in Paris: The Movie',\n",
       " 'The Transformers: The Movie',\n",
       " \"The Emperor's New Groove\",\n",
       " \"A Monkey's Tale\",\n",
       " 'The Brave Little Toaster',\n",
       " \"Recess: School's Out\",\n",
       " 'Monkeybone',\n",
       " 'Pokémon: Spell of the Unknown',\n",
       " 'Shrek',\n",
       " 'Atlantis: The Lost Empire',\n",
       " 'Final Fantasy: The Spirits Within',\n",
       " 'More',\n",
       " 'Haunted Castle',\n",
       " 'The Land Before Time',\n",
       " 'Osmosis Jones',\n",
       " 'Spriggan',\n",
       " 'Waking Life',\n",
       " 'Monsters, Inc.',\n",
       " 'Jimmy Neutron: Boy Genius',\n",
       " 'Little Otik',\n",
       " 'Fritz the Cat',\n",
       " 'The Nine Lives of Fritz the Cat',\n",
       " 'The Flight of Dragons',\n",
       " 'Fire and Ice',\n",
       " 'Metropolis',\n",
       " 'Return to Never Land',\n",
       " 'Vampire Hunter D: Bloodlust',\n",
       " 'FernGully: The Last Rainforest',\n",
       " 'A Troll in Central Park',\n",
       " 'Ice Age',\n",
       " 'Spirit: Stallion of the Cimarron',\n",
       " 'Lilo & Stitch',\n",
       " 'Hey Arnold! The Movie',\n",
       " 'The Powerpuff Girls Movie',\n",
       " 'Stuart Little 2',\n",
       " 'The Care Bears Movie',\n",
       " 'Care Bears Movie II: A New Generation',\n",
       " 'Spirited Away',\n",
       " 'Jonah: A VeggieTales Movie',\n",
       " 'The Incredible Mr. Limpet',\n",
       " 'Pokémon 4Ever: Celebi - Voice of the Forest',\n",
       " 'Grave of the Fireflies',\n",
       " 'The Looney, Looney, Looney Bugs Bunny Movie',\n",
       " 'Eight Crazy Nights',\n",
       " 'Treasure Planet',\n",
       " 'The Wild Thornberrys Movie',\n",
       " 'My Neighbor Totoro',\n",
       " 'Heavy Metal 2000',\n",
       " 'The Last Unicorn',\n",
       " 'The Jungle Book 2',\n",
       " \"Piglet's Big Movie\",\n",
       " 'Cowboy Bebop: The Movie',\n",
       " 'Castle in the Sky',\n",
       " 'Pokémon Heroes: Latios and Latias',\n",
       " 'Finding Nemo',\n",
       " 'Gay Purr-ee',\n",
       " 'Rugrats Go Wild',\n",
       " 'Sinbad: Legend of the Seven Seas',\n",
       " 'Millennium Actress',\n",
       " 'The Triplets of Belleville',\n",
       " 'Ninja Scroll',\n",
       " 'Brother Bear',\n",
       " 'Looney Tunes: Back in Action',\n",
       " 'Marquis',\n",
       " 'Nausicaä of the Valley of the Wind',\n",
       " 'Royal Space Force - The Wings Of Honneamise',\n",
       " \"Teacher's Pet\",\n",
       " 'Cool World',\n",
       " 'Allegro non troppo',\n",
       " 'Home on the Range',\n",
       " \"Clifford's Really Big Movie\",\n",
       " \"Bon Voyage, Charlie Brown (and Don't Come Back!)\",\n",
       " 'The Phantom Tollbooth',\n",
       " 'Wonderful Days',\n",
       " 'Twice Upon a Time',\n",
       " 'Jin-Roh: The Wolf Brigade',\n",
       " 'Dexter the Dragon & Bumble the Bear',\n",
       " 'Lupin the Third: The Castle of Cagliostro',\n",
       " 'Shrek 2',\n",
       " 'Garfield',\n",
       " 'Robot Carnival',\n",
       " 'The Chipmunk Adventure',\n",
       " 'Kaena: The Prophecy',\n",
       " \"Will Vinton's Claymation Christmas Celebration\",\n",
       " 'Tokyo Godfathers',\n",
       " 'Thunderbirds are GO',\n",
       " 'Thunderbird 6',\n",
       " 'The Warrior',\n",
       " 'Yu-Gi-Oh! The Movie',\n",
       " 'Shark Tale',\n",
       " 'Team America: World Police',\n",
       " \"Bébé's Kids\",\n",
       " 'The Incredibles',\n",
       " 'The Polar Express',\n",
       " 'The SpongeBob SquarePants Movie',\n",
       " 'A Charlie Brown Christmas',\n",
       " 'Asterix the Gaul',\n",
       " 'Asterix and Cleopatra',\n",
       " 'The Twelve Tasks of Asterix',\n",
       " 'The Hobbit',\n",
       " 'Peter-No-Tail',\n",
       " 'Barefoot Gen',\n",
       " 'Rock & Rule',\n",
       " 'Asterix vs. Caesar',\n",
       " 'Peter-No-Tail in Americat',\n",
       " 'Asterix in Britain',\n",
       " 'G.I. Joe: The Movie',\n",
       " 'Alice',\n",
       " \"Kiki's Delivery Service\",\n",
       " 'Patlabor: The Movie',\n",
       " 'Only Yesterday',\n",
       " 'Porco Rosso',\n",
       " 'Felidae',\n",
       " 'Macross Plus: Movie Edition',\n",
       " 'Whisper of the Heart',\n",
       " 'Street Fighter II: The Animated Movie',\n",
       " \"The Lion King 2: Simba's Pride\",\n",
       " 'Batman & Mr. Freeze: SubZero',\n",
       " \"The Batman Superman Movie: World's Finest\",\n",
       " 'The End of Evangelion',\n",
       " 'Kirikou and the Sorceress',\n",
       " 'The Trumpet Of The Swan',\n",
       " 'An Extremely Goofy Movie',\n",
       " 'Batman Beyond: Return of the Joker',\n",
       " 'Revolutionary Girl Utena: The Movie',\n",
       " 'Is It Fall Yet?',\n",
       " 'Blood: The Last Vampire',\n",
       " 'The Lion King 1½',\n",
       " 'The Animatrix',\n",
       " 'Ghost in the Shell 2: Innocence',\n",
       " 'The Cat Returns',\n",
       " 'The Cathedral',\n",
       " 'Inuyasha the Movie 2: The Castle Beyond the Looking Glass',\n",
       " 'Interstella 5555: The 5tory of the 5ecret 5tar 5ystem',\n",
       " 'A Scanner Darkly',\n",
       " 'Wizards',\n",
       " 'Appleseed',\n",
       " \"Howl's Moving Castle\",\n",
       " 'Steamboy',\n",
       " \"Pooh's Heffalump Movie\",\n",
       " 'The ChubbChubbs!',\n",
       " 'Robots',\n",
       " 'Once Upon a Forest',\n",
       " 'My Neighbors the Yamadas',\n",
       " 'Pom Poko',\n",
       " 'Memories',\n",
       " 'Harvie Krumpet',\n",
       " 'The Man Who Planted Trees',\n",
       " 'Vincent',\n",
       " 'Mutant Aliens',\n",
       " 'Vampire Hunter D',\n",
       " 'DuckTales: The Movie - Treasure of the Lost Lamp',\n",
       " 'Madagascar',\n",
       " 'Animal Farm',\n",
       " 'Strings',\n",
       " 'Valiant',\n",
       " 'Family Guy Presents Stewie Griffin: The Untold Story',\n",
       " 'Corpse Bride',\n",
       " 'Final Fantasy VII: Advent Children',\n",
       " 'The Curse of the Were-Rabbit',\n",
       " 'Race for Your Life, Charlie Brown',\n",
       " 'The Adventures of Prince Achmed',\n",
       " 'Chicken Little',\n",
       " 'Luxo Jr.',\n",
       " 'Voices of a Distant Star',\n",
       " 'Hoodwinked!',\n",
       " 'Curious George',\n",
       " 'Ultimate Avengers',\n",
       " 'Ice Age: The Meltdown',\n",
       " 'Renaissance',\n",
       " 'Pinocchio and the Emperor of the Night',\n",
       " 'The Wild',\n",
       " 'Over the Hedge',\n",
       " 'Cars',\n",
       " 'Conspirators of Pleasure',\n",
       " 'Garfield: A Tail of Two Kitties',\n",
       " 'Coonskin',\n",
       " 'Monster House',\n",
       " 'The Ant Bully',\n",
       " 'Barnyard',\n",
       " 'Mind Game',\n",
       " 'A Boy Named Charlie Brown',\n",
       " \"Everyone's Hero\",\n",
       " 'The Land Before Time II: The Great Valley Adventure',\n",
       " 'Open Season',\n",
       " 'Corto Maltese in Siberia',\n",
       " 'Flushed Away',\n",
       " 'Ocean Waves',\n",
       " 'Happy Feet',\n",
       " 'The Place Promised in Our Early Days',\n",
       " 'The Plague Dogs',\n",
       " \"Happily N'Ever After\",\n",
       " 'Arthur and the Invisibles',\n",
       " 'Ratatouille',\n",
       " 'The Point!',\n",
       " 'The Ugly Duckling and Me!',\n",
       " 'The Dagger of Kamui',\n",
       " \"Atlantis: Milo's Return\",\n",
       " 'TMNT',\n",
       " 'Meet the Robinsons',\n",
       " 'How the Grinch Stole Christmas!',\n",
       " 'Origin: Spirits of the Past',\n",
       " 'Aqua Teen Hunger Force Colon Movie Film for Theaters',\n",
       " 'Tales from Earthsea',\n",
       " 'Paprika',\n",
       " 'The Adventures of Mark Twain',\n",
       " 'Shrek the Third',\n",
       " \"Surf's Up\",\n",
       " 'When the Wind Blows',\n",
       " 'The Simpsons Movie',\n",
       " 'Victory Through Air Power',\n",
       " 'Tekkonkinkreet',\n",
       " 'Persepolis',\n",
       " 'Valhalla',\n",
       " 'Bee Movie',\n",
       " \"Azur & Asmar: The Princes' Quest\",\n",
       " 'Beowulf',\n",
       " 'Alvin and the Chipmunks',\n",
       " \"Futurama: Bender's Big Score\",\n",
       " 'Cat Soup',\n",
       " 'The Girl Who Leapt Through Time',\n",
       " 'Fallen Art',\n",
       " 'Horton Hears a Who!',\n",
       " \"VeggieTales: The Pirates Who Don't Do Anything\",\n",
       " 'Terkel in Trouble',\n",
       " 'Justice League: The New Frontier',\n",
       " 'The District',\n",
       " 'Kung Fu Panda',\n",
       " 'WALL·E',\n",
       " 'Futurama: The Beast with a Billion Backs',\n",
       " 'Bambi II',\n",
       " 'Frosty the Snowman',\n",
       " \"It's the Great Pumpkin, Charlie Brown\",\n",
       " 'Space Chimps',\n",
       " 'The Little Drummer Boy',\n",
       " 'The Little Mermaid II: Return to the Sea',\n",
       " 'Batman: Gotham Knight',\n",
       " 'Fist of the North Star',\n",
       " 'Star Wars: The Clone Wars',\n",
       " 'Waltz with Bashir',\n",
       " 'Fly Me to the Moon',\n",
       " 'Dead Fury',\n",
       " 'Dead Leaves',\n",
       " 'The Flight Before Christmas',\n",
       " \"Futurama: Bender's Game\",\n",
       " 'Madagascar: Escape 2 Africa',\n",
       " 'Happily Ever After',\n",
       " 'Bolt',\n",
       " 'Igor',\n",
       " 'Shrek the Halls',\n",
       " 'A Matter of Loaf and Death',\n",
       " 'Delgo',\n",
       " 'Sword of the Stranger',\n",
       " '5 Centimeters per Second',\n",
       " 'Ponyo',\n",
       " 'Open Season 2',\n",
       " 'The Tale of Despereaux',\n",
       " 'Galaxy Express 999',\n",
       " 'Fear(s) of the Dark',\n",
       " 'Coraline',\n",
       " 'Futurama: Into the Wild Green Yonder',\n",
       " 'Comet in Moominland',\n",
       " 'Afro Samurai: Resurrection',\n",
       " 'Rock-A-Doodle',\n",
       " 'Kung Fu Panda: Secrets of the Furious Five',\n",
       " 'Monsters vs Aliens',\n",
       " 'Sita Sings the Blues',\n",
       " 'Neon Genesis Evangelion: Death and Rebirth',\n",
       " 'Up',\n",
       " 'Fullmetal Alchemist the Movie: Conqueror of Shamballa',\n",
       " 'Big Man Japan',\n",
       " \"Garfield's Pet Force\",\n",
       " 'Ice Age: Dawn of the Dinosaurs',\n",
       " 'Is It College Yet?',\n",
       " 'The Journey to Melonia',\n",
       " 'Lady Death',\n",
       " 'Tales of the Black Freighter',\n",
       " 'Ranma ½: Nihao, My Concubine',\n",
       " 'The Pinchcliffe Grand Prix',\n",
       " 'Evangelion: 1.0: You Are (Not) Alone',\n",
       " 'Love Hina Christmas Special: Silent Eve',\n",
       " '9',\n",
       " 'Green Lantern: First Flight',\n",
       " 'Immigrants (L.A. Dolce Vita)',\n",
       " 'Cloudy with a Chance of Meatballs',\n",
       " 'Battle for Terra',\n",
       " \"The Cameraman's Revenge\",\n",
       " 'Down to the Cellar',\n",
       " 'Metropia',\n",
       " 'The Pit, the Pendulum and Hope',\n",
       " 'The Haunted World of El Superbeasto',\n",
       " 'Love Hina Spring Special - I Wish Your Dream',\n",
       " 'Bye-Bye Bin Laden',\n",
       " 'Mary and Max',\n",
       " 'Dimensions of Dialogue',\n",
       " 'Darkness/Light/Darkness',\n",
       " 'Mutant Pumpkins from Outer Space',\n",
       " 'Ryan',\n",
       " 'Balance',\n",
       " 'Astro Boy',\n",
       " 'Fantastic Mr. Fox',\n",
       " 'The Pebble and the Penguin',\n",
       " 'A Christmas Carol',\n",
       " 'Partly Cloudy',\n",
       " 'Rocks',\n",
       " 'Turtles Forever',\n",
       " 'Merry Madagascar',\n",
       " 'The Fly',\n",
       " 'The Man Without a Shadow',\n",
       " 'Printed Rainbow',\n",
       " \"Mickey's Once Upon a Christmas\",\n",
       " 'Planet 51',\n",
       " 'The Princess and the Frog',\n",
       " 'Donkey X',\n",
       " 'Alvin and the Chipmunks: The Squeakquel',\n",
       " 'Princess',\n",
       " 'Dragon Hunters',\n",
       " 'Rudolph, the Red-Nosed Reindeer',\n",
       " 'Wicked City',\n",
       " \"Dante's Hell Animated\",\n",
       " 'Space Pirate Captain Harlock: Arcadia of My Youth',\n",
       " '$9.99',\n",
       " 'The Secret of Kells',\n",
       " 'A Town Called Panic',\n",
       " 'Lupin the Third: Sweet Lost Night',\n",
       " 'How to Train Your Dragon',\n",
       " 'Tom and Jerry: The Movie',\n",
       " \"You're a Good Man, Charlie Brown\",\n",
       " 'Lupin the Third: Episode 0: First Contact',\n",
       " \"Kronk's New Groove\",\n",
       " 'Spiderman: The Ultimate Villain Showdown',\n",
       " 'LEGO: The Adventures of Clutch Powers',\n",
       " 'Panda! Go Panda!',\n",
       " 'The Sky Crawlers',\n",
       " 'Halo Legends',\n",
       " 'Peter & the Wolf',\n",
       " 'The Drawn Together Movie: The Movie!',\n",
       " 'Toy Story 3',\n",
       " 'The Halloween Tree',\n",
       " 'Shrek Forever After',\n",
       " 'South Park: Imaginationland',\n",
       " 'Despicable Me',\n",
       " 'Batman: Under the Red Hood',\n",
       " 'The Bugs Bunny/Road Runner Movie',\n",
       " 'Dragon Ball Z: Dead Zone',\n",
       " 'The Christmas Toy',\n",
       " 'Elephants Dream',\n",
       " 'Superman/Batman: Apocalypse',\n",
       " \"Legend of the Guardians: The Owls of Ga'Hoole\",\n",
       " 'Sintel',\n",
       " 'Big Buck Bunny',\n",
       " 'Dragonlance: Dragons Of Autumn Twilight',\n",
       " 'The Illusionist',\n",
       " 'Barefoot Gen 2',\n",
       " 'The Employment',\n",
       " 'Megamind',\n",
       " \"Der Fuehrer's Face\",\n",
       " \"A Turtle's Tale: Sammy's Adventures\",\n",
       " 'Scared Shrekless',\n",
       " 'The House',\n",
       " 'Tangled',\n",
       " 'The Monk and the Fish',\n",
       " 'A Garfield Christmas Special',\n",
       " 'The Return of the King',\n",
       " 'The Secret World of Arrietty',\n",
       " 'Yogi Bear',\n",
       " 'The Princess and the Goblin',\n",
       " 'The Fern Flower',\n",
       " 'Gen 13',\n",
       " 'Day & Night',\n",
       " '2012: Time for Change',\n",
       " 'Evangelion: 2.0 You Can (Not) Advance',\n",
       " 'Corto Maltese: The Ballad of the Salt Sea',\n",
       " 'All Star Superman',\n",
       " 'Gnomeo & Juliet',\n",
       " 'Rango',\n",
       " 'Summer Wars',\n",
       " \"Pooh's Grand Adventure: The Search for Christopher Robin\",\n",
       " 'Corto Maltese: Under the Sign of Capricorn',\n",
       " 'Corto Maltese: La maison dorée de Samarkand',\n",
       " 'Winnie the Pooh and the Honey Tree',\n",
       " 'Mars Needs Moms',\n",
       " 'Scooby-Doo! The Mystery Begins',\n",
       " 'The House of Small Cubes',\n",
       " 'Winnie the Pooh and Tigger Too',\n",
       " 'She and Her Cat: Their Standing Points',\n",
       " 'Winnie the Pooh and a Day for Eeyore',\n",
       " 'BURN·E',\n",
       " 'Dead Space: Downfall',\n",
       " 'Hop',\n",
       " 'Rio',\n",
       " 'My Dog Tulip',\n",
       " 'Idiots and Angels',\n",
       " 'Invitation to the Dance',\n",
       " 'Open Season 3',\n",
       " 'Kung Fu Panda 2',\n",
       " \"Mickey's Twice Upon a Christmas\",\n",
       " 'King of Jazz',\n",
       " 'My Life as McDull',\n",
       " 'Cars 2',\n",
       " 'Happiness Is a Warm Blanket, Charlie Brown',\n",
       " 'Education for Death',\n",
       " 'Winnie the Pooh',\n",
       " \"Mike's New Car\",\n",
       " 'The Smurfs',\n",
       " 'Alpha and Omega',\n",
       " 'Christmas Carol: The Movie',\n",
       " 'Phineas and Ferb the Movie: Across the 2nd Dimension',\n",
       " 'Here Comes Peter Cottontail',\n",
       " \"The Enchanted World of Danny Kaye: The Emperor's New Clothes\",\n",
       " 'Batman: Year One',\n",
       " 'The Adventures of Tintin',\n",
       " 'The Fall of the House of Usher',\n",
       " \"Daffy Duck's Movie: Fantastic Island\",\n",
       " 'Lifted',\n",
       " 'The Gruffalo',\n",
       " 'Asterix and the Big Fight',\n",
       " 'Asterix Conquers America',\n",
       " 'Asterix and the Vikings',\n",
       " 'Happy Feet Two',\n",
       " 'Arthur Christmas',\n",
       " 'The Snowman',\n",
       " 'Alvin and the Chipmunks: Chipwrecked',\n",
       " 'Professor Layton and the Eternal Diva',\n",
       " 'Kung Fu Panda Holiday',\n",
       " 'Chico & Rita',\n",
       " 'Mr. Bug Goes to Town',\n",
       " 'The Disappearance of Haruhi Suzumiya',\n",
       " \"The Wonderful World of Puss 'n Boots\",\n",
       " 'Barbie in the Nutcracker',\n",
       " 'A Monster in Paris',\n",
       " 'Live Music',\n",
       " 'The Prince and the Pauper',\n",
       " 'A Cat in Paris',\n",
       " 'Children Who Chase Lost Voices',\n",
       " 'The Lorax',\n",
       " 'Pale Cocoon',\n",
       " 'Cencoroll',\n",
       " 'Eden of the East Movie I: The King of Eden',\n",
       " 'Eden of the East Movie II: Paradise Lost',\n",
       " 'The Ballad of Nessie',\n",
       " \"Dante's Inferno: An Animated Epic\",\n",
       " 'Walking with Beasts',\n",
       " 'Before The Dinosaurs - Walking With Monsters',\n",
       " 'The Pirates! In an Adventure with Scientists!',\n",
       " 'Superman vs. The Elite',\n",
       " 'Superman: Doomsday',\n",
       " \"Madagascar 3: Europe's Most Wanted\",\n",
       " 'Dragon Ball: Curse of the Blood Rubies',\n",
       " \"Dragon Ball: Sleeping Princess in Devil's Castle\",\n",
       " 'Superman/Batman: Public Enemies',\n",
       " 'Dead Space: Aftermath',\n",
       " 'Iria: Zeiram the Animation',\n",
       " 'Dragon Ball: Mystical Adventure',\n",
       " \"Dragon Ball Z: The World's Strongest\",\n",
       " 'Brave',\n",
       " 'Beauty and the Beast: The Enchanted Christmas',\n",
       " 'Dragon Ball Z: The Tree of Might',\n",
       " 'Pocahontas II: Journey to a New World',\n",
       " 'Presto',\n",
       " 'Jack-Jack Attack',\n",
       " \"Boundin'\",\n",
       " 'One Man Band',\n",
       " 'Tin Toy',\n",
       " 'Dragon Ball Z: Return of Cooler',\n",
       " \"Dragon Ball Z: Cooler's Revenge\",\n",
       " 'Dragon Ball Z: Super Android 13',\n",
       " 'Dragon Ball Z: Broly - The Legendary Super Saiyan',\n",
       " 'Dragon Ball Z: Bojack Unbound',\n",
       " 'Ice Age: Continental Drift',\n",
       " 'Balto II: Wolf Quest',\n",
       " \"Red's Dream\",\n",
       " \"Geri's Game\",\n",
       " 'The Cat in the Hat',\n",
       " 'Dragon Ball Z: Broly - Second Coming',\n",
       " 'King of Thorn',\n",
       " 'Dragon Ball Z: Bio-Broly',\n",
       " 'Dragon Ball Z: Fusion Reborn',\n",
       " 'Knick Knack',\n",
       " 'For the Birds',\n",
       " 'Dragon Ball Z: Wrath of the Dragon',\n",
       " 'Dragon Ball Z: Bardock - The Father of Goku',\n",
       " 'Dragon Ball Z: The History of Trunks',\n",
       " \"Dragon Ball GT: A Hero's Legacy\",\n",
       " 'The Tortoise and the Hare',\n",
       " \"The Little Mermaid: Ariel's Beginning\",\n",
       " 'ParaNorman',\n",
       " 'Cinderella II: Dreams Come True',\n",
       " 'Runaway Brain',\n",
       " 'Arthur and the Revenge of Maltazard',\n",
       " 'Bleach the Movie: Fade to Black',\n",
       " 'Frankenweenie',\n",
       " 'Hotel Transylvania',\n",
       " 'Madame Tutli-Putli',\n",
       " 'Hoodwinked Too! Hood VS. Evil',\n",
       " 'Step Up Love Story',\n",
       " 'Wreck-It Ralph',\n",
       " 'Vexille',\n",
       " 'Batman: The Dark Knight Returns, Part 1',\n",
       " 'Rise of the Guardians',\n",
       " 'Journey to Saturn',\n",
       " 'Jungle de Ikou',\n",
       " 'Paperman',\n",
       " 'Kirikou and the Wild Beasts',\n",
       " 'The Congress',\n",
       " 'From Up on Poppy Hill',\n",
       " 'Redline',\n",
       " 'Burn Up!',\n",
       " 'Welcome to the Space Show',\n",
       " 'Space Adventure Cobra',\n",
       " \"A Liar's Autobiography: The Untrue Story of Monty Python's Graham Chapman\",\n",
       " 'Consuming Spirits',\n",
       " 'The Reluctant Dragon',\n",
       " 'Alois Nebel',\n",
       " 'Tiny Toon Adventures: How I Spent My Vacation',\n",
       " \"It's Such a Beautiful Day\",\n",
       " 'Batman: The Dark Knight Returns, Part 2',\n",
       " 'Pokémon the Movie Black: Victini and Reshiram',\n",
       " 'Pokémon the Movie White: Victini and Zekrom',\n",
       " 'The Hand',\n",
       " 'Resident Evil: Degeneration',\n",
       " 'Resident Evil: Damnation',\n",
       " 'Tale of Tales',\n",
       " 'Escape from Planet Earth',\n",
       " 'Starship Troopers: Invasion',\n",
       " 'The Legend of Sleepy Hollow',\n",
       " 'Tripping the Rift: The Movie',\n",
       " 'The Croods',\n",
       " 'Mezzo Forte',\n",
       " \"'Twas the Night Before Christmas\",\n",
       " '009 Re: Cyborg',\n",
       " 'Wolf Children',\n",
       " 'The Invincible Iron Man',\n",
       " 'Thor: Tales of Asgard',\n",
       " 'Iron Man: Rise of Technovore',\n",
       " 'Hulk vs. Wolverine',\n",
       " 'Planet Hulk',\n",
       " 'Justice League: Doom',\n",
       " 'Superman: Unbound',\n",
       " 'Tales of Vesperia: The First Strike',\n",
       " 'Epic',\n",
       " 'After School Midnighters',\n",
       " 'Monsters University',\n",
       " 'Oblivion Island: Haruka and the Magic Mirror',\n",
       " 'Fullmetal Alchemist: The Sacred Star of Milos',\n",
       " 'Lego Batman: The Movie - DC Super Heroes Unite',\n",
       " 'Despicable Me 2',\n",
       " 'Justice League: The Flashpoint Paradox',\n",
       " 'Dragon Age: Dawn of the Seeker',\n",
       " 'Turbo',\n",
       " 'The Smurfs 2',\n",
       " 'My Little Pony: Equestria Girls',\n",
       " 'Lupin the Third: The Secret of Mamo',\n",
       " 'Batman: Mystery of the Batwoman',\n",
       " 'Green Lantern: Emerald Knights',\n",
       " 'Planes',\n",
       " 'The Wind Rises',\n",
       " 'Tatsumi',\n",
       " 'Justice League: Crisis on Two Earths',\n",
       " 'Logorama',\n",
       " 'French Roast',\n",
       " 'The Suicide Shop',\n",
       " 'Leafie, a Hen Into the Wild',\n",
       " 'The Secret of the Third Planet',\n",
       " 'Zambezia',\n",
       " 'Cloudy with a Chance of Meatballs 2',\n",
       " 'An All Dogs Christmas Carol',\n",
       " 'The Day of the Crows',\n",
       " 'Bartok the Magnificent',\n",
       " 'The Blue Umbrella',\n",
       " 'Toy Story of Terror!',\n",
       " 'Free Birds',\n",
       " 'One Piece Film Strong World',\n",
       " 'One Piece Film Z',\n",
       " \"It's the Easter Beagle, Charlie Brown\",\n",
       " 'Frozen',\n",
       " 'Trigun: Badlands Rumble',\n",
       " 'Evangelion: 3.0 You Can (Not) Redo',\n",
       " 'The Life & Adventures of Santa Claus',\n",
       " 'Urusei Yatsura 2: Beautiful Dreamer',\n",
       " 'A Christmas Carol',\n",
       " 'Is the Man Who Is Tall Happy?',\n",
       " \"Gurren Lagann The Movie: Childhood's End\",\n",
       " 'Gurren Lagann The Movie: The Lights in the Sky Are Stars',\n",
       " \"Lady and the Tramp II: Scamp's Adventure\",\n",
       " 'Death of a Superhero',\n",
       " 'The Lost Thing',\n",
       " 'Highlander: The Search for Vengeance',\n",
       " 'Dragon Ball Z: Battle of Gods',\n",
       " 'Underdogs',\n",
       " 'Dragon Ball Z: Lord Slug',\n",
       " 'Pokémon Origins',\n",
       " 'Dragon Ball: The Path to Power',\n",
       " 'A Turtle’s Tale 2: Sammy’s Escape From Paradise',\n",
       " 'Venus Wars',\n",
       " 'Justice League: War',\n",
       " 'Ernest & Celestine',\n",
       " 'Yu☆Gi☆Oh!',\n",
       " 'Yu-Gi-Oh! 3D: Bonds Beyond Time',\n",
       " 'Wonder Woman',\n",
       " 'The Lego Movie',\n",
       " 'La luna',\n",
       " 'The Secret of NIMH 2: Timmy to the Rescue',\n",
       " 'Niko 2 - Little Brother, Big Trouble',\n",
       " 'Quest for a Heart',\n",
       " 'Night on the Galactic Railroad',\n",
       " 'The Painting',\n",
       " 'The King and the Mockingbird',\n",
       " 'An Oversimplification of Her Beauty',\n",
       " 'Mater and the Ghostlight',\n",
       " 'Your Friend the Rat',\n",
       " \"Dug's Special Mission\",\n",
       " 'Bionicle: Mask of Light',\n",
       " 'Bionicle 2: Legends of Metru Nui',\n",
       " 'Bionicle 3: Web of Shadows',\n",
       " 'Wrinkles',\n",
       " 'Love Games',\n",
       " 'The Garden of Words',\n",
       " 'Bionicle: The Legend Reborn',\n",
       " 'First Squad: The Moment of Truth',\n",
       " 'Legend of the BoneKnapper Dragon',\n",
       " 'Dick Figures: The Movie',\n",
       " 'Mr. Peabody & Sherman',\n",
       " 'Puss in Boots: The Three Diablos',\n",
       " 'The Cat Concerto',\n",
       " 'George & A.J.',\n",
       " 'Space Pirate Captain Harlock',\n",
       " 'Mass Effect: Paragon Lost',\n",
       " 'The Nut Job',\n",
       " 'Avengers Confidential: Black Widow & Punisher',\n",
       " 'Aya of Yop City',\n",
       " 'The Mysterious Geographic Explorations of Jasper Morello',\n",
       " 'Son of Batman',\n",
       " 'Rio 2',\n",
       " 'Mulan II',\n",
       " 'Alpha and Omega 2: A Howl-iday Adventure',\n",
       " 'Alpha and Omega 3: The Great Wolf Games',\n",
       " \"Legends of Oz: Dorothy's Return\",\n",
       " 'Scooby-Doo! WrestleMania Mystery',\n",
       " 'Cinderella',\n",
       " 'Minuscule: Valley of the Lost Ants',\n",
       " 'Tangled Ever After',\n",
       " 'A Letter to Momo',\n",
       " 'How to Train Your Dragon 2',\n",
       " 'Money as Debt',\n",
       " 'Planes: Fire & Rescue',\n",
       " 'Colorful',\n",
       " 'Gunbuster vs Diebuster Aim for the Top! The GATTAI!! Movie',\n",
       " 'Boogie',\n",
       " 'Food',\n",
       " 'Video Games: The Movie',\n",
       " 'Around June',\n",
       " 'Zarafa',\n",
       " 'Batman: Assault on Arkham',\n",
       " 'The Old Lady and the Pigeons',\n",
       " 'Appleseed Alpha',\n",
       " 'Care Bears To the Rescue',\n",
       " 'The Little Norse Prince',\n",
       " \"Cheech & Chong's Animated Movie\",\n",
       " 'Saint Seiya: Legend of Sanctuary',\n",
       " 'Where The Dead Go to Die',\n",
       " 'Bambi Meets Godzilla',\n",
       " 'Aladin',\n",
       " \"Monkey's Teeth\",\n",
       " 'Dead Times',\n",
       " 'The Snails',\n",
       " 'The Boxtrolls',\n",
       " 'The Tale of the Princess Kaguya',\n",
       " 'How Wang-Fo Was Saved',\n",
       " 'The Captive',\n",
       " \"Angel's Egg\",\n",
       " \"Bugs Bunny's 3rd Movie: 1001 Rabbit Tales\",\n",
       " 'Time of Eve: The Movie',\n",
       " 'Jack and the Cuckoo-Clock Heart',\n",
       " 'Moomins on the Riviera',\n",
       " 'No Time for Nuts',\n",
       " 'Justin and the Knights of Valour',\n",
       " 'The Swan Princess: Escape from Castle Mountain',\n",
       " 'The Lady and the Reaper',\n",
       " 'Ward 13',\n",
       " 'Rabbit',\n",
       " 'Mount Head',\n",
       " 'Amazon Jack 3: Jungo Goes Bananas',\n",
       " 'The Swan Princess: The Mystery of the Enchanted Kingdom',\n",
       " 'Jungledyret',\n",
       " 'Hugo the Movie Star',\n",
       " 'The Seventh Brother',\n",
       " 'Darkside Blues',\n",
       " 'Felix The Cat: The Movie',\n",
       " 'Big Hero 6',\n",
       " 'The Book of Life',\n",
       " 'The Cat Came Back',\n",
       " 'The Big Snit',\n",
       " 'Strange Invaders',\n",
       " 'Mr Hublot',\n",
       " \"Charlotte's Web 2: Wilbur's Great Adventure\",\n",
       " 'Hawaiian Vacation',\n",
       " 'Maggie Simpson in The Longest Daycare',\n",
       " 'Small Fry',\n",
       " '9',\n",
       " 'Louis & Luca and the Snow Machine',\n",
       " 'Doctor Strange',\n",
       " 'Barbie: A Perfect Christmas',\n",
       " 'LEGO Hero Factory: Savage Planet',\n",
       " 'LEGO Hero Factory: Rise of the Rookies',\n",
       " 'Tom Sawyer',\n",
       " 'Santa Claus and the Magic Drum',\n",
       " 'The Land Before Time IV: Journey Through the Mists',\n",
       " 'The Land Before Time V: The Mysterious Island',\n",
       " 'The Land Before Time VI: The Secret of Saurus Rock',\n",
       " 'An American Tail: The Treasure of Manhattan Island',\n",
       " 'An American Tail: The Mystery of the Night Monster',\n",
       " 'Walking With Dinosaurs',\n",
       " 'Ultramarines: A Warhammer 40,000 Movie',\n",
       " 'Secret of the Wings',\n",
       " 'Tinker Bell and the Lost Treasure',\n",
       " 'How the Toys Saved Christmas',\n",
       " \"The True Story of Puss 'n Boots\",\n",
       " \"Dante's Inferno\",\n",
       " 'Jackboots on Whitehall',\n",
       " 'Son of the White Mare',\n",
       " 'The Little Fox',\n",
       " 'Summer Days With Coo',\n",
       " 'Head Over Heels',\n",
       " 'Patema Inverted',\n",
       " 'Yobi, The Five-Tailed Fox',\n",
       " 'Werner - Beinhart!',\n",
       " 'Jetsons: The Movie',\n",
       " 'Paths of Hate',\n",
       " 'The Legend of Sarila',\n",
       " 'The Madagascar Penguins in a Christmas Caper',\n",
       " 'Gone Nutty',\n",
       " 'When Marnie Was There',\n",
       " 'Song of the Sea',\n",
       " 'Rakuen Tsuihou - Expelled from Paradise',\n",
       " 'The Magic Crystal',\n",
       " 'The Care Bears Adventure in Wonderland',\n",
       " 'Asterix: The Mansions of the Gods',\n",
       " 'The Fake',\n",
       " 'Penguins of Madagascar',\n",
       " \"The Rabbi's Cat\",\n",
       " 'Quest',\n",
       " 'Scooby-Doo! Frankencreepy',\n",
       " 'Ice Age: A Mammoth Christmas',\n",
       " 'Batman vs Dracula',\n",
       " 'The Kingdom of Dreams and Madness',\n",
       " 'Mei and the Kittenbus',\n",
       " 'Dots',\n",
       " 'Hen Hop',\n",
       " 'Rock the Boat',\n",
       " 'Khumba',\n",
       " 'Scooby-Doo! Abracadabra-Doo',\n",
       " 'Fiddle-de-dee',\n",
       " 'Mail Early for Xmas',\n",
       " 'Canon',\n",
       " 'A Chairy Tale',\n",
       " 'A Phantasy',\n",
       " 'Neighbours',\n",
       " 'New York Lightboard Record',\n",
       " 'Lines: Horizontal',\n",
       " 'Begone Dull Care',\n",
       " 'Synchromy',\n",
       " \"Bolidi sull'asfalto a tutta birra!\",\n",
       " \"Scooby-Doo! and the Witch's Ghost\",\n",
       " 'Momo',\n",
       " \"Beyond The Mind's Eye\",\n",
       " 'The Nutcracker Prince',\n",
       " \"Bugs Bunny's Looney Christmas Tales\",\n",
       " 'FernGully 2: The Magical Rescue',\n",
       " 'Back to School with Franklin',\n",
       " 'Everything I Can See From Here',\n",
       " 'Hotarubi no Mori e',\n",
       " 'Foodfight!',\n",
       " 'Rocks in my Pockets',\n",
       " 'Garfield Gets Real',\n",
       " \"Garfield's Fun Fest\",\n",
       " 'Partysaurus Rex',\n",
       " \"The Legend of Mor'du\",\n",
       " 'Toy Story That Time Forgot',\n",
       " 'Nocturna',\n",
       " 'Fresh Guacamole',\n",
       " 'Adam and Dog',\n",
       " 'Shinbone Alley',\n",
       " 'The Reef 2: High Tide',\n",
       " \"101 Dalmatians II: Patch's London Adventure\",\n",
       " 'Tarzan',\n",
       " 'Tad, the Lost Explorer',\n",
       " \"Someone's Gaze\",\n",
       " 'The Perfect World of Kai',\n",
       " 'Dot and the Whale',\n",
       " 'Get a Horse!',\n",
       " \"Bosko's Parlor Pranks\",\n",
       " 'Stuart Little 3: Call of the Wild',\n",
       " 'The Littlest Angel',\n",
       " 'Scooby-Doo! Camp Scare',\n",
       " \"Hey There, It's Yogi Bear\",\n",
       " \"Mr. Magoo's Christmas Carol\",\n",
       " 'The Land Before Time VII: The Stone of Cold Fire',\n",
       " 'The Land Before Time IX: Journey to the Big Water',\n",
       " 'The Land Before Time VIII: The Big Freeze',\n",
       " 'The Land Before Time X: The Great Longneck Migration',\n",
       " 'JLA Adventures: Trapped in Time',\n",
       " 'Space Chimps 2: Zartog Strikes Back',\n",
       " 'Magic Boy',\n",
       " \"Happily N'Ever After 2\",\n",
       " 'The Land Before Time XI: Invasion of the Tinysauruses',\n",
       " 'Lotte from Gadgetville',\n",
       " 'The Land Before Time XII: The Great Day of the Flyers',\n",
       " 'The Happy Elf',\n",
       " 'SeaFood',\n",
       " 'The Snow Queen',\n",
       " 'The Land Before Time XIII: The Wisdom of Friends',\n",
       " 'The Missing Lynx',\n",
       " 'Snowflake, the White Gorilla',\n",
       " 'The Wind in the Willows',\n",
       " 'Why Man Creates',\n",
       " 'Justice League: Throne of Atlantis',\n",
       " 'The Adventures of Tom Thumb & Thumbelina',\n",
       " 'The Wind in the Willows',\n",
       " 'The Dolphin: Story of a Dreamer',\n",
       " 'Toys in the Attic',\n",
       " \"Impy's Island\",\n",
       " 'Unstable Fables: Tortoise vs. Hare',\n",
       " 'Unstable Fables: 3 Pigs & a Baby',\n",
       " 'Anina',\n",
       " 'One Step Ahead of My Shadow',\n",
       " 'The Periwig-Maker',\n",
       " 'Kiwi!',\n",
       " 'The Fox and the Hare',\n",
       " 'Crac',\n",
       " 'Syrinx',\n",
       " 'Fright to the Finish',\n",
       " 'I Want a Dog for Christmas, Charlie Brown',\n",
       " 'The Trip to Squash Land',\n",
       " \"Charlie Brown's Christmas Tales\",\n",
       " \"Garfield's Halloween Adventure\",\n",
       " \"It's Christmastime Again, Charlie Brown\",\n",
       " 'Nocturna Artificialia',\n",
       " 'Trick or Treat',\n",
       " 'The Butter Battle Book',\n",
       " 'Corn on the Cop',\n",
       " 'Halloween is Grinch Night',\n",
       " 'Rudolph the Red-Nosed Reindeer',\n",
       " 'The Fat Albert Halloween Special',\n",
       " 'The Dot and the Line: A Romance in Lower Mathematics',\n",
       " 'Rubber Johnny',\n",
       " 'Sleeping Betty',\n",
       " \"Betty Boop's Hallowe'en Party\",\n",
       " 'Halloween',\n",
       " 'Barbie: A Fashion Fairytale',\n",
       " \"Franz Kafka's a Country Doctor\",\n",
       " \"Pluto's Christmas Tree\",\n",
       " 'Stille Nacht I',\n",
       " 'Rehearsals for Extinct Anatomies',\n",
       " \"Bob's Birthday\",\n",
       " 'Broom-Stick Bunny',\n",
       " 'Chainsaw Maid',\n",
       " 'The Little Matchgirl',\n",
       " 'The Haunted House',\n",
       " 'Hen, His Wife',\n",
       " 'A Flintstones Christmas Carol',\n",
       " 'Hedgehog in the Fog',\n",
       " \"The Cat's Out\",\n",
       " 'Claymation Comedy of Horrors',\n",
       " 'The Adventures of André and Wally B.',\n",
       " 'Strange Magic',\n",
       " 'The Flying Machine',\n",
       " 'Heathcliff: The Movie',\n",
       " \"Daddy, I'm A Zombie\",\n",
       " 'Pinocchio',\n",
       " \"Help! I'm A Fish\",\n",
       " 'Babar The Movie',\n",
       " 'The Fox and the Hound 2',\n",
       " 'The Fabulous Baron Munchausen',\n",
       " 'Gertie the Dinosaur',\n",
       " '@Suicide Room',\n",
       " 'Panda! Go Panda!: Rainy Day Circus',\n",
       " 'Family Guy Presents: Blue Harvest',\n",
       " 'Scooby-Doo in Arabian Nights',\n",
       " 'Pororo: The Racing Adventure',\n",
       " \"The Gruffalo's Child\",\n",
       " 'The Year Without a Santa Claus',\n",
       " 'Chaar Sahibzaade',\n",
       " 'Stitch! The Movie',\n",
       " 'Lascars',\n",
       " 'JohnnyExpress',\n",
       " 'The SpongeBob Movie: Sponge Out of Water',\n",
       " 'Ghost in the Shell Arise - Border 1: Ghost Pain',\n",
       " ...]"
      ]
     },
     "execution_count": 16,
     "metadata": {},
     "output_type": "execute_result"
    }
   ],
   "source": [
    "pd.set_option('future.no_silent_downcasting', True)\n",
    "r=[]\n",
    "def gotgenre(valor):\n",
    "    if(type(valor)==float or valor is None):\n",
    "        return np.nan\n",
    "    if \"Animation\" in valor:\n",
    "        return True\n",
    "r = movies_copia[\"name_genre\"].apply(gotgenre)\n",
    "r = r.replace({None:False})\n",
    "r.fillna(value=False,inplace=True)\n",
    "\n",
    "list(movies_copia[\"title\"][r])\n"
   ]
  },
  {
   "cell_type": "markdown",
   "metadata": {},
   "source": [
    "* Se crea la columna Retorno de Inversion (R.O.I.)"
   ]
  },
  {
   "cell_type": "code",
   "execution_count": 17,
   "metadata": {},
   "outputs": [
    {
     "name": "stdout",
     "output_type": "stream",
     "text": [
      "<class 'pandas.core.frame.DataFrame'>\n",
      "Index: 45363 entries, 0 to 45465\n",
      "Data columns (total 2 columns):\n",
      " #   Column   Non-Null Count  Dtype  \n",
      "---  ------   --------------  -----  \n",
      " 0   revenue  45363 non-null  float64\n",
      " 1   budget   45363 non-null  object \n",
      "dtypes: float64(1), object(1)\n",
      "memory usage: 1.0+ MB\n"
     ]
    }
   ],
   "source": [
    "# Cheaquear el tipo de datos de ambas columnas\n",
    "movies_copia[[\"revenue\",\"budget\"]].info() #revenue --> float64 #budget --> budget object\n",
    "# Cambio el tipo de dato de budget\n",
    "movies_copia[\"budget\"]=movies_copia[\"budget\"].astype(\"Float64\")\n",
    "\n",
    "returns = np.where(movies_copia[\"budget\"]==0,np.nan,movies_copia[\"revenue\"]/movies_copia[\"budget\"])\n",
    "movies_copia[\"return\"] = returns\n",
    "movies_copia.fillna({\"return\":0},inplace=True)"
   ]
  },
  {
   "cell_type": "markdown",
   "metadata": {},
   "source": [
    "* Se cambio los valores del titulo a minuscula para efectos practicos"
   ]
  },
  {
   "cell_type": "code",
   "execution_count": 18,
   "metadata": {},
   "outputs": [],
   "source": [
    "movies_copia[\"title\"] = movies_copia[\"title\"].str.lower()"
   ]
  },
  {
   "cell_type": "code",
   "execution_count": 19,
   "metadata": {},
   "outputs": [
    {
     "data": {
      "text/plain": [
       "3784"
      ]
     },
     "execution_count": 19,
     "metadata": {},
     "output_type": "execute_result"
    }
   ],
   "source": [
    "movies_copia[movies_copia[\"release_date\"].dt.month==12][\"title\"].count()"
   ]
  },
  {
   "cell_type": "code",
   "execution_count": 20,
   "metadata": {},
   "outputs": [
    {
     "data": {
      "text/plain": [
       "0          Monday\n",
       "1          Friday\n",
       "2          Friday\n",
       "3          Friday\n",
       "4          Friday\n",
       "           ...   \n",
       "45460      Monday\n",
       "45462    Thursday\n",
       "45463      Friday\n",
       "45464      Sunday\n",
       "45465      Friday\n",
       "Name: release_date, Length: 45363, dtype: object"
      ]
     },
     "execution_count": 20,
     "metadata": {},
     "output_type": "execute_result"
    }
   ],
   "source": [
    "movies_copia[\"release_date\"].dt.day_name()"
   ]
  },
  {
   "cell_type": "markdown",
   "metadata": {},
   "source": [
    "## DF credits - ETL\n",
    "* <p>Se realiza una copia del dataframe (df) como medida de no afectar al original<p>"
   ]
  },
  {
   "cell_type": "code",
   "execution_count": 21,
   "metadata": {},
   "outputs": [
    {
     "data": {
      "text/plain": [
       "(45476, 3)"
      ]
     },
     "execution_count": 21,
     "metadata": {},
     "output_type": "execute_result"
    }
   ],
   "source": [
    "credits_copy = credits.copy()\n",
    "credits_copy.shape"
   ]
  },
  {
   "cell_type": "code",
   "execution_count": 22,
   "metadata": {},
   "outputs": [],
   "source": [
    "credits_copy[\"actors_names\"] = credits_copy[\"cast\"].apply(lambda x: divide_columns(x,\"name\"))"
   ]
  },
  {
   "cell_type": "code",
   "execution_count": 23,
   "metadata": {},
   "outputs": [
    {
     "data": {
      "text/plain": [
       "0        [Jim Varney, Tim Allen, Don Rickles, John Ratz...\n",
       "1        [David Alan Grier, Kirsten Dunst, Lloyd Berry,...\n",
       "2        [Jack Lemmon, Ann-Margret, Sophia Loren, Daryl...\n",
       "3        [Wesley Snipes, Whitney Houston, Dennis Haysbe...\n",
       "4        [George Newbern, Peter Michael Goetz, Kate McG...\n",
       "                               ...                        \n",
       "45471          [Leila Hatami, Elham Korda, Kourosh Tahami]\n",
       "45472    [Roeder, Betty Uy-Regala, Modesta, Angeli Baya...\n",
       "45473    [Tom Wright, Erika Eleniak, Jeremy Lelliott, J...\n",
       "45474    [Aleksandr Chabrov, Pavel Pavlov, Nathalie Lis...\n",
       "45475                                                  NaN\n",
       "Name: actors_names, Length: 45476, dtype: object"
      ]
     },
     "execution_count": 23,
     "metadata": {},
     "output_type": "execute_result"
    }
   ],
   "source": [
    "credits_copy[\"actors_names\"]"
   ]
  },
  {
   "cell_type": "code",
   "execution_count": 24,
   "metadata": {},
   "outputs": [],
   "source": [
    "credits_copy[\"director_names\"]=credits_copy[\"crew\"].apply(lambda x: divide_columns(x,\"name\",\"job\",\"Director\"))"
   ]
  },
  {
   "cell_type": "code",
   "execution_count": 25,
   "metadata": {},
   "outputs": [
    {
     "name": "stdout",
     "output_type": "stream",
     "text": [
      "<class 'pandas.core.series.Series'>\n",
      "RangeIndex: 45476 entries, 0 to 45475\n",
      "Series name: id\n",
      "Non-Null Count  Dtype\n",
      "--------------  -----\n",
      "45476 non-null  int64\n",
      "dtypes: int64(1)\n",
      "memory usage: 355.4 KB\n",
      "<class 'pandas.core.series.Series'>\n",
      "Index: 45363 entries, 0 to 45465\n",
      "Series name: id\n",
      "Non-Null Count  Dtype  \n",
      "--------------  -----  \n",
      "45363 non-null  float64\n",
      "dtypes: float64(1)\n",
      "memory usage: 708.8 KB\n"
     ]
    },
    {
     "data": {
      "text/plain": [
       "(None, None)"
      ]
     },
     "execution_count": 25,
     "metadata": {},
     "output_type": "execute_result"
    }
   ],
   "source": [
    "credits_copy[\"id\"].info(), movies_copia[\"id\"].info()"
   ]
  },
  {
   "cell_type": "markdown",
   "metadata": {},
   "source": [
    "### Realizo un merge"
   ]
  },
  {
   "cell_type": "code",
   "execution_count": 26,
   "metadata": {},
   "outputs": [],
   "source": [
    "cast_and_crew = credits_copy[[\"id\",\"actors_names\",\"director_names\"]]\n",
    "\n",
    "movies_merged = movies_copia.merge(cast_and_crew,on=\"id\",how=\"inner\")"
   ]
  },
  {
   "cell_type": "markdown",
   "metadata": {},
   "source": [
    "* Normalizacion de titulo a minuscula para facilitar la busqueda"
   ]
  },
  {
   "cell_type": "code",
   "execution_count": 27,
   "metadata": {},
   "outputs": [],
   "source": [
    "movies_merged_copy = movies_merged.copy()\n",
    "movies_merged_copy[\"title\"]=movies_merged_copy[\"title\"].str.lower()"
   ]
  },
  {
   "cell_type": "markdown",
   "metadata": {},
   "source": [
    "* Exporto el csv para posterior evaluacion de la API"
   ]
  },
  {
   "cell_type": "code",
   "execution_count": 28,
   "metadata": {},
   "outputs": [],
   "source": [
    "movies_merged_copy[\"popularity\"]=movies_merged_copy[\"popularity\"].astype(\"Float64\")"
   ]
  },
  {
   "cell_type": "markdown",
   "metadata": {},
   "source": [
    "## Guardado\n",
    "<p>Previo a guardar se eliminan las ultimas columnas a no utilizar</p>"
   ]
  },
  {
   "cell_type": "code",
   "execution_count": 29,
   "metadata": {},
   "outputs": [
    {
     "data": {
      "text/plain": [
       "Index(['budget', 'genres', 'id', 'original_language', 'overview', 'popularity',\n",
       "       'production_companies', 'production_countries', 'release_date',\n",
       "       'revenue', 'runtime', 'spoken_languages', 'status', 'tagline', 'title',\n",
       "       'vote_average', 'vote_count', 'release_year', 'id_genre', 'name_genre',\n",
       "       'return', 'actors_names', 'director_names'],\n",
       "      dtype='object')"
      ]
     },
     "execution_count": 29,
     "metadata": {},
     "output_type": "execute_result"
    }
   ],
   "source": [
    "movies_merged_copy.columns"
   ]
  },
  {
   "cell_type": "code",
   "execution_count": 30,
   "metadata": {},
   "outputs": [],
   "source": [
    "rec_system = movies_merged_copy[[\"title\",\"overview\",\"name_genre\",\"actors_names\",\"director_names\",\"tagline\",\"vote_average\"]]"
   ]
  },
  {
   "cell_type": "code",
   "execution_count": 31,
   "metadata": {},
   "outputs": [
    {
     "data": {
      "text/plain": [
       "186                                      reckless\n",
       "394                          girl in the cadillac\n",
       "707      the haunted world of edward d. wood, jr.\n",
       "737        carmen miranda: bananas is my business\n",
       "1634                     other voices other rooms\n",
       "                           ...                   \n",
       "45009                             the human surge\n",
       "45158                            first round down\n",
       "45210                               der herr karl\n",
       "45321           the many faces of christopher lee\n",
       "45330       lego dc super hero girls: brain drain\n",
       "Name: title, Length: 185, dtype: object"
      ]
     },
     "execution_count": 31,
     "metadata": {},
     "output_type": "execute_result"
    }
   ],
   "source": [
    "movies_merged_copy[movies_merged_copy[\"vote_average\"]==movies_merged_copy[\"vote_average\"].max()][\"title\"]"
   ]
  },
  {
   "cell_type": "code",
   "execution_count": 32,
   "metadata": {},
   "outputs": [
    {
     "data": {
      "text/html": [
       "<div>\n",
       "<style scoped>\n",
       "    .dataframe tbody tr th:only-of-type {\n",
       "        vertical-align: middle;\n",
       "    }\n",
       "\n",
       "    .dataframe tbody tr th {\n",
       "        vertical-align: top;\n",
       "    }\n",
       "\n",
       "    .dataframe thead th {\n",
       "        text-align: right;\n",
       "    }\n",
       "</style>\n",
       "<table border=\"1\" class=\"dataframe\">\n",
       "  <thead>\n",
       "    <tr style=\"text-align: right;\">\n",
       "      <th></th>\n",
       "      <th>title</th>\n",
       "      <th>overview</th>\n",
       "      <th>name_genre</th>\n",
       "      <th>actors_names</th>\n",
       "      <th>director_names</th>\n",
       "      <th>tagline</th>\n",
       "      <th>vote_average</th>\n",
       "    </tr>\n",
       "  </thead>\n",
       "  <tbody>\n",
       "    <tr>\n",
       "      <th>0</th>\n",
       "      <td>toy story</td>\n",
       "      <td>Led by Woody, Andy's toys live happily in his ...</td>\n",
       "      <td>[Family, Comedy, Animation]</td>\n",
       "      <td>[Jim Varney, Tim Allen, Don Rickles, John Ratz...</td>\n",
       "      <td>[John Lasseter]</td>\n",
       "      <td>NaN</td>\n",
       "      <td>7.7</td>\n",
       "    </tr>\n",
       "    <tr>\n",
       "      <th>1</th>\n",
       "      <td>jumanji</td>\n",
       "      <td>When siblings Judy and Peter discover an encha...</td>\n",
       "      <td>[Fantasy, Family, Adventure]</td>\n",
       "      <td>[David Alan Grier, Kirsten Dunst, Lloyd Berry,...</td>\n",
       "      <td>[Joe Johnston]</td>\n",
       "      <td>Roll the dice and unleash the excitement!</td>\n",
       "      <td>6.9</td>\n",
       "    </tr>\n",
       "    <tr>\n",
       "      <th>2</th>\n",
       "      <td>grumpier old men</td>\n",
       "      <td>A family wedding reignites the ancient feud be...</td>\n",
       "      <td>[Comedy, Romance]</td>\n",
       "      <td>[Jack Lemmon, Ann-Margret, Sophia Loren, Daryl...</td>\n",
       "      <td>[Howard Deutch]</td>\n",
       "      <td>Still Yelling. Still Fighting. Still Ready for...</td>\n",
       "      <td>6.5</td>\n",
       "    </tr>\n",
       "    <tr>\n",
       "      <th>3</th>\n",
       "      <td>waiting to exhale</td>\n",
       "      <td>Cheated on, mistreated and stepped on, the wom...</td>\n",
       "      <td>[Drama, Comedy, Romance]</td>\n",
       "      <td>[Wesley Snipes, Whitney Houston, Dennis Haysbe...</td>\n",
       "      <td>[Forest Whitaker]</td>\n",
       "      <td>Friends are the people who let you be yourself...</td>\n",
       "      <td>6.1</td>\n",
       "    </tr>\n",
       "    <tr>\n",
       "      <th>4</th>\n",
       "      <td>father of the bride part ii</td>\n",
       "      <td>Just when George Banks has recovered from his ...</td>\n",
       "      <td>[Comedy]</td>\n",
       "      <td>[George Newbern, Peter Michael Goetz, Kate McG...</td>\n",
       "      <td>[Charles Shyer]</td>\n",
       "      <td>Just When His World Is Back To Normal... He's ...</td>\n",
       "      <td>5.7</td>\n",
       "    </tr>\n",
       "    <tr>\n",
       "      <th>...</th>\n",
       "      <td>...</td>\n",
       "      <td>...</td>\n",
       "      <td>...</td>\n",
       "      <td>...</td>\n",
       "      <td>...</td>\n",
       "      <td>...</td>\n",
       "      <td>...</td>\n",
       "    </tr>\n",
       "    <tr>\n",
       "      <th>45418</th>\n",
       "      <td>robin hood</td>\n",
       "      <td>Yet another version of the classic epic, with ...</td>\n",
       "      <td>[Action, Drama, Romance]</td>\n",
       "      <td>[Uma Thurman, Patrick Bergin, Jeroen Krabbé, D...</td>\n",
       "      <td>[John Irvin]</td>\n",
       "      <td>NaN</td>\n",
       "      <td>5.7</td>\n",
       "    </tr>\n",
       "    <tr>\n",
       "      <th>45419</th>\n",
       "      <td>century of birthing</td>\n",
       "      <td>An artist struggles to finish his work while a...</td>\n",
       "      <td>[Drama]</td>\n",
       "      <td>[Roeder, Betty Uy-Regala, Modesta, Angeli Baya...</td>\n",
       "      <td>[Lav Diaz]</td>\n",
       "      <td>NaN</td>\n",
       "      <td>9.0</td>\n",
       "    </tr>\n",
       "    <tr>\n",
       "      <th>45420</th>\n",
       "      <td>betrayal</td>\n",
       "      <td>When one of her hits goes wrong, a professiona...</td>\n",
       "      <td>[Drama, Action, Thriller]</td>\n",
       "      <td>[Tom Wright, Erika Eleniak, Jeremy Lelliott, J...</td>\n",
       "      <td>[Mark L. Lester]</td>\n",
       "      <td>A deadly game of wits.</td>\n",
       "      <td>3.8</td>\n",
       "    </tr>\n",
       "    <tr>\n",
       "      <th>45421</th>\n",
       "      <td>satan triumphant</td>\n",
       "      <td>In a small town live two brothers, one a minis...</td>\n",
       "      <td>NaN</td>\n",
       "      <td>[Aleksandr Chabrov, Pavel Pavlov, Nathalie Lis...</td>\n",
       "      <td>[Yakov Protazanov]</td>\n",
       "      <td>NaN</td>\n",
       "      <td>0.0</td>\n",
       "    </tr>\n",
       "    <tr>\n",
       "      <th>45422</th>\n",
       "      <td>queerama</td>\n",
       "      <td>50 years after decriminalisation of homosexual...</td>\n",
       "      <td>NaN</td>\n",
       "      <td>NaN</td>\n",
       "      <td>[Daisy Asquith]</td>\n",
       "      <td>NaN</td>\n",
       "      <td>0.0</td>\n",
       "    </tr>\n",
       "  </tbody>\n",
       "</table>\n",
       "<p>45423 rows × 7 columns</p>\n",
       "</div>"
      ],
      "text/plain": [
       "                             title  \\\n",
       "0                        toy story   \n",
       "1                          jumanji   \n",
       "2                 grumpier old men   \n",
       "3                waiting to exhale   \n",
       "4      father of the bride part ii   \n",
       "...                            ...   \n",
       "45418                   robin hood   \n",
       "45419          century of birthing   \n",
       "45420                     betrayal   \n",
       "45421             satan triumphant   \n",
       "45422                     queerama   \n",
       "\n",
       "                                                overview  \\\n",
       "0      Led by Woody, Andy's toys live happily in his ...   \n",
       "1      When siblings Judy and Peter discover an encha...   \n",
       "2      A family wedding reignites the ancient feud be...   \n",
       "3      Cheated on, mistreated and stepped on, the wom...   \n",
       "4      Just when George Banks has recovered from his ...   \n",
       "...                                                  ...   \n",
       "45418  Yet another version of the classic epic, with ...   \n",
       "45419  An artist struggles to finish his work while a...   \n",
       "45420  When one of her hits goes wrong, a professiona...   \n",
       "45421  In a small town live two brothers, one a minis...   \n",
       "45422  50 years after decriminalisation of homosexual...   \n",
       "\n",
       "                         name_genre  \\\n",
       "0       [Family, Comedy, Animation]   \n",
       "1      [Fantasy, Family, Adventure]   \n",
       "2                 [Comedy, Romance]   \n",
       "3          [Drama, Comedy, Romance]   \n",
       "4                          [Comedy]   \n",
       "...                             ...   \n",
       "45418      [Action, Drama, Romance]   \n",
       "45419                       [Drama]   \n",
       "45420     [Drama, Action, Thriller]   \n",
       "45421                           NaN   \n",
       "45422                           NaN   \n",
       "\n",
       "                                            actors_names      director_names  \\\n",
       "0      [Jim Varney, Tim Allen, Don Rickles, John Ratz...     [John Lasseter]   \n",
       "1      [David Alan Grier, Kirsten Dunst, Lloyd Berry,...      [Joe Johnston]   \n",
       "2      [Jack Lemmon, Ann-Margret, Sophia Loren, Daryl...     [Howard Deutch]   \n",
       "3      [Wesley Snipes, Whitney Houston, Dennis Haysbe...   [Forest Whitaker]   \n",
       "4      [George Newbern, Peter Michael Goetz, Kate McG...     [Charles Shyer]   \n",
       "...                                                  ...                 ...   \n",
       "45418  [Uma Thurman, Patrick Bergin, Jeroen Krabbé, D...        [John Irvin]   \n",
       "45419  [Roeder, Betty Uy-Regala, Modesta, Angeli Baya...          [Lav Diaz]   \n",
       "45420  [Tom Wright, Erika Eleniak, Jeremy Lelliott, J...    [Mark L. Lester]   \n",
       "45421  [Aleksandr Chabrov, Pavel Pavlov, Nathalie Lis...  [Yakov Protazanov]   \n",
       "45422                                                NaN     [Daisy Asquith]   \n",
       "\n",
       "                                                 tagline  vote_average  \n",
       "0                                                    NaN           7.7  \n",
       "1              Roll the dice and unleash the excitement!           6.9  \n",
       "2      Still Yelling. Still Fighting. Still Ready for...           6.5  \n",
       "3      Friends are the people who let you be yourself...           6.1  \n",
       "4      Just When His World Is Back To Normal... He's ...           5.7  \n",
       "...                                                  ...           ...  \n",
       "45418                                                NaN           5.7  \n",
       "45419                                                NaN           9.0  \n",
       "45420                             A deadly game of wits.           3.8  \n",
       "45421                                                NaN           0.0  \n",
       "45422                                                NaN           0.0  \n",
       "\n",
       "[45423 rows x 7 columns]"
      ]
     },
     "execution_count": 32,
     "metadata": {},
     "output_type": "execute_result"
    }
   ],
   "source": [
    "rec_system"
   ]
  },
  {
   "cell_type": "code",
   "execution_count": 33,
   "metadata": {},
   "outputs": [],
   "source": [
    "rec_system.to_parquet(\"../datasets/rec_system.parquet\")"
   ]
  },
  {
   "cell_type": "code",
   "execution_count": 34,
   "metadata": {},
   "outputs": [],
   "source": [
    "# movies_merged_copy.to_csv(path_or_buf=\"../datasets/movies_merged.csv\")\n",
    "movies_merged_copy.to_parquet(\"movies_merged.parquet\")"
   ]
  },
  {
   "cell_type": "code",
   "execution_count": 35,
   "metadata": {},
   "outputs": [
    {
     "data": {
      "text/plain": [
       "0                                                      NaN\n",
       "1                Roll the dice and unleash the excitement!\n",
       "2        Still Yelling. Still Fighting. Still Ready for...\n",
       "3        Friends are the people who let you be yourself...\n",
       "4        Just When His World Is Back To Normal... He's ...\n",
       "                               ...                        \n",
       "45418                                                  NaN\n",
       "45419                                                  NaN\n",
       "45420                               A deadly game of wits.\n",
       "45421                                                  NaN\n",
       "45422                                                  NaN\n",
       "Name: tagline, Length: 45423, dtype: object"
      ]
     },
     "execution_count": 35,
     "metadata": {},
     "output_type": "execute_result"
    }
   ],
   "source": [
    "movies_merged_copy[\"tagline\"]"
   ]
  },
  {
   "cell_type": "markdown",
   "metadata": {},
   "source": [
    "# FUNCIONES "
   ]
  },
  {
   "cell_type": "markdown",
   "metadata": {},
   "source": [
    "## Titulo de pelicula"
   ]
  },
  {
   "cell_type": "code",
   "execution_count": 36,
   "metadata": {},
   "outputs": [
    {
     "data": {
      "text/plain": [
       "3036"
      ]
     },
     "execution_count": 36,
     "metadata": {},
     "output_type": "execute_result"
    }
   ],
   "source": [
    "def cantidad_filmaciones_mes(mes):\n",
    "    try:\n",
    "        a = movies_merged_copy[movies_merged_copy[\"release_date\"].dt.month_name(locale='es_ES.utf8')== mes.capitalize()]\n",
    "        return a[\"title\"].count()\n",
    "    except:\n",
    "        print(\"Check your input\")\n",
    "    \n",
    "cantidad = cantidad_filmaciones_mes(\"febrero\")\n",
    "cantidad"
   ]
  },
  {
   "cell_type": "code",
   "execution_count": 37,
   "metadata": {},
   "outputs": [
    {
     "data": {
      "text/plain": [
       "array(['Lunes', 'Viernes', 'Jueves', 'Miercoles', 'Sabado', 'Martes',\n",
       "       'Domingo'], dtype=object)"
      ]
     },
     "execution_count": 37,
     "metadata": {},
     "output_type": "execute_result"
    }
   ],
   "source": [
    "dias_norm = {\n",
    "    \"Miã©rcoles\":\"Miercoles\",\n",
    "    \"Sã¡bado\":\"Sabado\"\n",
    "}\n",
    "dias = movies_merged_copy[\"release_date\"].dt.day_name(locale='es_Es.utf8')\n",
    "dias= dias.replace(dias_norm)\n",
    "# normalized_days = dias.str.normalize('NFKD').str.encode('ascii', errors='ignore').str.decode('ascii')\n",
    "dias.unique()"
   ]
  },
  {
   "cell_type": "code",
   "execution_count": 38,
   "metadata": {},
   "outputs": [
    {
     "data": {
      "text/plain": [
       "5156"
      ]
     },
     "execution_count": 38,
     "metadata": {},
     "output_type": "execute_result"
    }
   ],
   "source": [
    "\n",
    "def cantidad_filmaciones_dia(dia):\n",
    "    try:\n",
    "        a = movies_merged_copy[dias== unidecode(dia).capitalize()]\n",
    "        return a[\"title\"].count()\n",
    "    except:\n",
    "        print(\"Check your input\")\n",
    "    \n",
    "cantidad = cantidad_filmaciones_dia(\"sabado\")\n",
    "cantidad"
   ]
  },
  {
   "cell_type": "code",
   "execution_count": 39,
   "metadata": {},
   "outputs": [
    {
     "name": "stdout",
     "output_type": "stream",
     "text": [
      "La película toy story fue estrenada en el año 1995\n",
      "                  cuenta con una popularidad de 21.946943\n"
     ]
    }
   ],
   "source": [
    "def popularidad_titulo (titulo):\n",
    "    titulo=titulo.lower()\n",
    "    df_title = movies_merged_copy[movies_merged_copy[\"title\"]==titulo]\n",
    "    popularity = list(df_title[\"popularity\"])[0]\n",
    "    return print(f\"\"\"La película {titulo} fue estrenada en el año {int(list(df_title[\"release_year\"])[0])}\n",
    "                  cuenta con una popularidad de {popularity}\"\"\")\n",
    "    \n",
    "popularidad_titulo(\"tOy story\")"
   ]
  },
  {
   "cell_type": "code",
   "execution_count": 40,
   "metadata": {},
   "outputs": [
    {
     "name": "stdout",
     "output_type": "stream",
     "text": [
      "La película toy story fue estrenada en el año 1995\n",
      "                  La misma cuenta con un total de 5415.0 valoraciones, con un promedio de 7.7\n"
     ]
    }
   ],
   "source": [
    "def votos_titulo (titulo):\n",
    "    titulo=titulo.lower()\n",
    "    df_title = movies_merged_copy[movies_merged_copy[\"title\"]==titulo]\n",
    "    cant_votos = list(df_title[\"vote_count\"])[0]\n",
    "    if(cant_votos<2000): \n",
    "        return print(f\"Lo siento, {titulo} cuenta solo con {cant_votos}, debes elegir una pelicula con almenos 2000\")\n",
    "    return print(f\"\"\"La película {titulo} fue estrenada en el año {int(list(df_title[\"release_year\"])[0])}\n",
    "                  La misma cuenta con un total de {cant_votos} valoraciones, con un promedio de {list(df_title[\"vote_average\"])[0]}\"\"\")\n",
    "    \n",
    "votos_titulo(\"tOy story\")"
   ]
  },
  {
   "cell_type": "code",
   "execution_count": null,
   "metadata": {},
   "outputs": [],
   "source": [
    "# for i in movies_merged_copy[\"actors_names\"]:\n",
    "\n",
    "for i "
   ]
  },
  {
   "cell_type": "code",
   "execution_count": 41,
   "metadata": {},
   "outputs": [
    {
     "name": "stdout",
     "output_type": "stream",
     "text": [
      "El actor Tom Hanks participo en 71 consiguiendo un total de 178.85 mil dolares, con un promedio de 2.52 mil dolares por pelicula\n"
     ]
    }
   ],
   "source": [
    "def get_actor(nombre):\n",
    "    cuenta_movies = 0\n",
    "    cuenta_dinero = 0\n",
    "    for nombres,i in zip(movies_merged_copy[\"actors_names\"],range(movies_merged_copy.shape[0])):\n",
    "        # if(type(nombres) in [float,int] ): continue\n",
    "        if(isinstance(nombres,list) and nombre in nombres):\n",
    "            cuenta_movies +=1\n",
    "            cuenta_dinero += movies_merged_copy[\"return\"].iloc[i]\n",
    "    promedio = cuenta_dinero/cuenta_movies\n",
    "    return print(f\"El actor {nombre} participo en {cuenta_movies} consiguiendo un total de {round(cuenta_dinero,2)} mil dolares, con un promedio de {round(promedio,2)} mil dolares por pelicula\")\n",
    "    \n",
    "get_actor(\"Tom Hanks\")"
   ]
  },
  {
   "cell_type": "code",
   "execution_count": 42,
   "metadata": {},
   "outputs": [
    {
     "name": "stderr",
     "output_type": "stream",
     "text": [
      "C:\\Users\\Martin\\AppData\\Local\\Temp\\ipykernel_18956\\3256321663.py:1: FutureWarning: A value is trying to be set on a copy of a DataFrame or Series through chained assignment using an inplace method.\n",
      "The behavior will change in pandas 3.0. This inplace method will never work because the intermediate object on which we are setting values always behaves as a copy.\n",
      "\n",
      "For example, when doing 'df[col].method(value, inplace=True)', try using 'df.method({col: value}, inplace=True)' or df[col] = df[col].method(value) instead, to perform the operation inplace on the original object.\n",
      "\n",
      "\n",
      "  movies_merged_copy[\"director_names\"].fillna(\"[]\",inplace=True)\n"
     ]
    }
   ],
   "source": [
    "movies_merged_copy[\"director_names\"].fillna(\"[]\",inplace=True)"
   ]
  },
  {
   "cell_type": "code",
   "execution_count": 43,
   "metadata": {},
   "outputs": [
    {
     "name": "stdout",
     "output_type": "stream",
     "text": [
      "{'Toy story': {'retorno': 12.45, 'año_lanzamiento': 1995, 'costo': 30000000.0, 'revenue': 373554033.0}, \"A bug's life\": {'retorno': 3.03, 'año_lanzamiento': 1998, 'costo': 120000000.0, 'revenue': 363258859.0}, 'Toy story 2': {'retorno': 5.53, 'año_lanzamiento': 1999, 'costo': 90000000.0, 'revenue': 497366869.0}, 'Luxo jr.': {'retorno': 0.0, 'año_lanzamiento': 1986, 'costo': 0.0, 'revenue': 0.0}, 'Cars': {'retorno': 3.85, 'año_lanzamiento': 2006, 'costo': 120000000.0, 'revenue': 461983149.0}, 'Cars 2': {'retorno': 2.8, 'año_lanzamiento': 2011, 'costo': 200000000.0, 'revenue': 559852396.0}, 'Tin toy': {'retorno': 0.0, 'año_lanzamiento': 1988, 'costo': 0.0, 'revenue': 0.0}, \"Red's dream\": {'retorno': 0.0, 'año_lanzamiento': 1987, 'costo': 0.0, 'revenue': 0.0}, 'Knick knack': {'retorno': 0.0, 'año_lanzamiento': 1989, 'costo': 0.0, 'revenue': 0.0}, 'Mater and the ghostlight': {'retorno': 0.0, 'año_lanzamiento': 2006, 'costo': 0.0, 'revenue': 0.0}}\n",
      "El director John Lasseter consiguio un total de 27.65 mil dolares\n"
     ]
    }
   ],
   "source": [
    "def get_director(nombre):\n",
    "\n",
    "    nombre = nombre.title()\n",
    "    peliculas_return = {}\n",
    "    cuenta_dinero_total = 0\n",
    "\n",
    "    for nombres,i in zip(movies_merged_copy[\"director_names\"],range(movies_merged_copy.shape[0])):\n",
    "\n",
    "        if(isinstance(nombres,list) and nombre in nombres):\n",
    "\n",
    "            movie_title= movies_merged_copy[\"title\"].str.capitalize().iloc[i]\n",
    "            individual_return = movies_merged_copy[\"return\"].iloc[i]\n",
    "            release_year = movies_merged_copy[\"release_year\"].iloc[i]\n",
    "            budget = movies_merged_copy[\"budget\"].iloc[i]\n",
    "            revenue = movies_merged_copy[\"revenue\"].iloc[i]\n",
    "\n",
    "            peliculas_return[movie_title] = {\"retorno\": round(individual_return,2),\n",
    "                                            \"año_lanzamiento\": int(release_year),\n",
    "                                            \"costo\":budget,\n",
    "                                            \"revenue\":revenue}\n",
    "            cuenta_dinero_total += movies_merged_copy[\"return\"].iloc[i]\n",
    "\n",
    "    print(peliculas_return)\n",
    "    return print(f\"El director {nombre} consiguio un total de {round(cuenta_dinero_total,2)} mil dolares\")\n",
    "    \n",
    "get_director(\"John Lasseter\")\n"
   ]
  },
  {
   "cell_type": "code",
   "execution_count": 44,
   "metadata": {},
   "outputs": [
    {
     "data": {
      "text/plain": [
       "(45423, 23)"
      ]
     },
     "execution_count": 44,
     "metadata": {},
     "output_type": "execute_result"
    }
   ],
   "source": [
    "movies_merged_copy.shape"
   ]
  }
 ],
 "metadata": {
  "kernelspec": {
   "display_name": "Python 3",
   "language": "python",
   "name": "python3"
  },
  "language_info": {
   "codemirror_mode": {
    "name": "ipython",
    "version": 3
   },
   "file_extension": ".py",
   "mimetype": "text/x-python",
   "name": "python",
   "nbconvert_exporter": "python",
   "pygments_lexer": "ipython3",
   "version": "3.12.3"
  }
 },
 "nbformat": 4,
 "nbformat_minor": 2
}
