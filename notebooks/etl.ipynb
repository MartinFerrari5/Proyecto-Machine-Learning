{
 "cells": [
  {
   "cell_type": "markdown",
   "metadata": {},
   "source": [
    "# ETL (Extract Transform Load)\n",
    "- In this endeavor an <b>E.T.L</b> of two `.csv` files was executed. After this process a de `Machine Learning Model` was applied to create a \n",
    "<i>Recommendation System <i>."
   ]
  },
  {
   "cell_type": "markdown",
   "metadata": {},
   "source": [
    "## Import the libraries that will be used"
   ]
  },
  {
   "cell_type": "code",
   "execution_count": 4,
   "metadata": {},
   "outputs": [],
   "source": [
    "import pandas as pd\n",
    "import numpy as np\n",
    "import ast\n",
    "from unidecode import unidecode\n",
    "import re\n",
    "import warnings\n",
    "warnings.filterwarnings('ignore')"
   ]
  },
  {
   "cell_type": "markdown",
   "metadata": {},
   "source": [
    "### Read the `.csv` files."
   ]
  },
  {
   "cell_type": "code",
   "execution_count": 5,
   "metadata": {},
   "outputs": [],
   "source": [
    "pd.set_option('display.max_columns', None)\n",
    "credits = pd.read_csv('../datasets/credits.csv')\n",
    "movies = pd.read_csv('../datasets/movies_dataset.csv')"
   ]
  },
  {
   "cell_type": "markdown",
   "metadata": {},
   "source": [
    "## DF movies - ETL\n",
    "* <p>Make a copy of the original dataframe to prevent mistakes<p>"
   ]
  },
  {
   "cell_type": "code",
   "execution_count": 6,
   "metadata": {},
   "outputs": [],
   "source": [
    "movies_copia = movies.copy()"
   ]
  },
  {
   "cell_type": "markdown",
   "metadata": {},
   "source": [
    "* Check null values"
   ]
  },
  {
   "cell_type": "code",
   "execution_count": 7,
   "metadata": {},
   "outputs": [
    {
     "data": {
      "text/plain": [
       "adult                        0\n",
       "belongs_to_collection    40972\n",
       "budget                       0\n",
       "genres                       0\n",
       "homepage                 37684\n",
       "id                           0\n",
       "imdb_id                     17\n",
       "original_language           11\n",
       "original_title               0\n",
       "overview                   954\n",
       "popularity                   5\n",
       "poster_path                386\n",
       "production_companies         3\n",
       "production_countries         3\n",
       "release_date                87\n",
       "revenue                      6\n",
       "runtime                    263\n",
       "spoken_languages             6\n",
       "status                      87\n",
       "tagline                  25054\n",
       "title                        6\n",
       "video                        6\n",
       "vote_average                 6\n",
       "vote_count                   6\n",
       "dtype: int64"
      ]
     },
     "execution_count": 7,
     "metadata": {},
     "output_type": "execute_result"
    }
   ],
   "source": [
    "movies_copia.isna().sum()"
   ]
  },
  {
   "cell_type": "markdown",
   "metadata": {},
   "source": [
    "<p style=\"color:rgb(190,190,190)\">It can be observed that certain coluns have a considerable amount of null values, this columns could be eliminated.Also, those columns that do not possess important values will be deleted<p>"
   ]
  },
  {
   "cell_type": "markdown",
   "metadata": {},
   "source": [
    "* Dropping columns"
   ]
  },
  {
   "cell_type": "code",
   "execution_count": 8,
   "metadata": {},
   "outputs": [],
   "source": [
    "delete_columns = [\"video\",\"imdb_id\",\"adult\",\"original_title\",\"poster_path\",\"homepage\"]\n",
    "\n",
    "movies_copia.drop(columns=delete_columns,inplace=True)\n",
    "\n",
    "# Dropping columns that are not going to be used , video,imdb_id,adult,original_title,poster_path and homepage."
   ]
  },
  {
   "cell_type": "markdown",
   "metadata": {},
   "source": [
    "* Delete duplicates in the `title` and `id` field to avoid repeated films."
   ]
  },
  {
   "cell_type": "code",
   "execution_count": 9,
   "metadata": {},
   "outputs": [],
   "source": [
    "movies_copia.drop_duplicates(subset=[\"title\"],inplace=True)\n",
    "movies_copia.drop_duplicates(subset=[\"title\"],inplace=True)"
   ]
  },
  {
   "cell_type": "markdown",
   "metadata": {},
   "source": [
    "* Apply regular expresions"
   ]
  },
  {
   "cell_type": "code",
   "execution_count": 10,
   "metadata": {},
   "outputs": [],
   "source": [
    "movies_copia[\"title\"] = movies_copia[\"title\"].apply(lambda x: re.sub(r'[^\\w\\s]', '', str(x)))\n"
   ]
  },
  {
   "cell_type": "markdown",
   "metadata": {},
   "source": [
    "* Normalice ``title`` to lower case"
   ]
  },
  {
   "cell_type": "code",
   "execution_count": 11,
   "metadata": {},
   "outputs": [],
   "source": [
    "movies_copia[\"title\"] = movies_copia[\"title\"].str.lower()"
   ]
  },
  {
   "cell_type": "markdown",
   "metadata": {},
   "source": [
    "* Fill nan values with 0 in columns: <i>revenue</i> and <i>budget</i> "
   ]
  },
  {
   "cell_type": "code",
   "execution_count": 12,
   "metadata": {},
   "outputs": [
    {
     "name": "stdout",
     "output_type": "stream",
     "text": [
      "revenue    0\n",
      "budget     0\n",
      "dtype: int64\n"
     ]
    }
   ],
   "source": [
    "movies_copia.fillna(value={\"budget\":0,\"revenue\":0},inplace=True)\n",
    "print(movies_copia[[\"revenue\",\"budget\"]].isna().sum())"
   ]
  },
  {
   "cell_type": "markdown",
   "metadata": {},
   "source": [
    "* Deleting null values at the <i>release_date</i> column so we can change the data type to `datetime`"
   ]
  },
  {
   "cell_type": "code",
   "execution_count": 13,
   "metadata": {},
   "outputs": [
    {
     "name": "stdout",
     "output_type": "stream",
     "text": [
      "0\n"
     ]
    }
   ],
   "source": [
    "# print(movies_copia[\"release_date\"].info()) #dtype: object\n",
    "movies_copia[\"release_date\"] = pd.to_datetime(movies_copia[\"release_date\"],format=\"%Y-%m-%d\",errors=\"coerce\").dropna()\n",
    "movies_copia = movies_copia.dropna(subset=\"release_date\")\n",
    "# print(movies_copia[\"release_date\"].info()) #dtype: datetime\n",
    "\n",
    "print(movies_copia[\"release_date\"].isna().sum())"
   ]
  },
  {
   "cell_type": "markdown",
   "metadata": {},
   "source": [
    "* Creation of the column `release_year`"
   ]
  },
  {
   "cell_type": "code",
   "execution_count": 14,
   "metadata": {},
   "outputs": [],
   "source": [
    "movies_copia[\"release_year\"]=movies_copia[\"release_date\"].dt.year\n",
    "movies_copia[\"release_year\"] = movies_copia[\"release_year\"].astype(int)"
   ]
  },
  {
   "cell_type": "markdown",
   "metadata": {},
   "source": [
    "* Change to `int` type the <i>id</i> column values so we can perform a merge with the ``id`` column from the <i>credits</i> Dataset\n",
    "<p style=\"color:gray\">Check strange values first<p>"
   ]
  },
  {
   "cell_type": "code",
   "execution_count": 15,
   "metadata": {},
   "outputs": [],
   "source": [
    "movies_copia[\"id\"]=movies_copia[\"id\"].str.replace(\"-\",\"\") # Este paso se realiza ya que se encontraron id's con estructura de fecha ej: 2020-03-08\n",
    "movies_copia[\"id\"] = movies_copia[\"id\"].astype(int)"
   ]
  },
  {
   "cell_type": "markdown",
   "metadata": {},
   "source": [
    "* Change data type from ``popularity`` column."
   ]
  },
  {
   "cell_type": "code",
   "execution_count": 16,
   "metadata": {},
   "outputs": [],
   "source": [
    "movies_copia[\"popularity\"] = movies_copia[\"popularity\"].astype(float)"
   ]
  },
  {
   "cell_type": "markdown",
   "metadata": {},
   "source": [
    "## Create a function to disassemble the fields that have dictionaries "
   ]
  },
  {
   "cell_type": "markdown",
   "metadata": {},
   "source": [
    "1) DataFrame-movies"
   ]
  },
  {
   "cell_type": "code",
   "execution_count": 17,
   "metadata": {},
   "outputs": [],
   "source": [
    "# For dictionaries list,  returns a list\n",
    "def divide_columns(valores,indice, key=False,value=False):\n",
    "    \n",
    "    list_of_dicts = ast.literal_eval(valores) #Takes a string as input and evaluates it as a python structure. e.g.: string ---> lista.\n",
    "    new_values = []\n",
    "    if(len(list_of_dicts)==0): return np.nan\n",
    "    for i in range(len(list_of_dicts)):\n",
    "        if(value and list_of_dicts[i][key]==value):\n",
    "            new_values.append(list_of_dicts[i][indice])\n",
    "        if key==False:\n",
    "            new_values.append(list_of_dicts[i][indice])\n",
    "\n",
    "    return list(set(new_values))\n",
    "\n"
   ]
  },
  {
   "cell_type": "code",
   "execution_count": 18,
   "metadata": {},
   "outputs": [],
   "source": [
    "# For dictionaries list,  returns a string\n",
    "def divide_list(valores,indice, key=False,value=False):\n",
    "    \n",
    "    # cleaned_string = valores.replace(\" \", \"\")\n",
    "    list_of_dicts = ast.literal_eval(valores) #Takes a string as input and evaluates it as a python structure. e.g.: string ---> lista.\n",
    "    if(len(list_of_dicts)==0): return \"Unknown\"\n",
    "    lista = [list_of_dicts[i][indice] for i in range(len(list_of_dicts)) ]\n",
    "        # name_genre.append(list_of_dicts[i][\"name\"])\n",
    "    return \" \".join(lista)"
   ]
  },
  {
   "cell_type": "code",
   "execution_count": 19,
   "metadata": {},
   "outputs": [],
   "source": [
    "# For dictionaries, returns a list\n",
    "def divide_dicts(valores,key):\n",
    "    list_of_dicts = ast.literal_eval(valores)\n",
    "    if(isinstance(list_of_dicts,dict)):\n",
    "        return list_of_dicts[key]\n",
    "    return valores"
   ]
  },
  {
   "cell_type": "code",
   "execution_count": 20,
   "metadata": {},
   "outputs": [],
   "source": [
    "# disassemble belong_to_collection\n",
    "movies_copia.fillna({\"belongs_to_collection\":\"[]\"},inplace=True) # Ya que la funcion divide_dicts reconoce estructuras de python, debemos realizar una falsa lista\n",
    "collection = movies_copia[\"belongs_to_collection\"].apply(lambda x: divide_dicts(x,\"name\"))\n",
    "movies_copia[\"belongs_to_collection\"] = movies_copia[\"belongs_to_collection\"].replace(\"[]\",\"Unknown\")"
   ]
  },
  {
   "cell_type": "code",
   "execution_count": 21,
   "metadata": {},
   "outputs": [
    {
     "data": {
      "text/html": [
       "<div>\n",
       "<style scoped>\n",
       "    .dataframe tbody tr th:only-of-type {\n",
       "        vertical-align: middle;\n",
       "    }\n",
       "\n",
       "    .dataframe tbody tr th {\n",
       "        vertical-align: top;\n",
       "    }\n",
       "\n",
       "    .dataframe thead th {\n",
       "        text-align: right;\n",
       "    }\n",
       "</style>\n",
       "<table border=\"1\" class=\"dataframe\">\n",
       "  <thead>\n",
       "    <tr style=\"text-align: right;\">\n",
       "      <th></th>\n",
       "      <th>belongs_to_collection</th>\n",
       "      <th>budget</th>\n",
       "      <th>genres</th>\n",
       "      <th>id</th>\n",
       "      <th>original_language</th>\n",
       "      <th>overview</th>\n",
       "      <th>popularity</th>\n",
       "      <th>production_companies</th>\n",
       "      <th>production_countries</th>\n",
       "      <th>release_date</th>\n",
       "      <th>revenue</th>\n",
       "      <th>runtime</th>\n",
       "      <th>spoken_languages</th>\n",
       "      <th>status</th>\n",
       "      <th>tagline</th>\n",
       "      <th>title</th>\n",
       "      <th>vote_average</th>\n",
       "      <th>vote_count</th>\n",
       "      <th>release_year</th>\n",
       "    </tr>\n",
       "  </thead>\n",
       "  <tbody>\n",
       "    <tr>\n",
       "      <th>4971</th>\n",
       "      <td>Unknown</td>\n",
       "      <td>0</td>\n",
       "      <td>[{'id': 35, 'name': 'Comedy'}, {'id': 10751, '...</td>\n",
       "      <td>21845</td>\n",
       "      <td>en</td>\n",
       "      <td>12-year-old Henry Rowengartner, whose late fat...</td>\n",
       "      <td>6.961256</td>\n",
       "      <td>[{'name': 'Twentieth Century Fox Film Corporat...</td>\n",
       "      <td>[{'iso_3166_1': 'US', 'name': 'United States o...</td>\n",
       "      <td>1993-07-07</td>\n",
       "      <td>53579269.0</td>\n",
       "      <td>103.0</td>\n",
       "      <td>[{'iso_639_1': 'en', 'name': 'English'}, {'iso...</td>\n",
       "      <td>Released</td>\n",
       "      <td>The Chicago Cubs needed a miracle... They got ...</td>\n",
       "      <td>rookie of the year</td>\n",
       "      <td>5.8</td>\n",
       "      <td>78.0</td>\n",
       "      <td>1993</td>\n",
       "    </tr>\n",
       "  </tbody>\n",
       "</table>\n",
       "</div>"
      ],
      "text/plain": [
       "     belongs_to_collection budget  \\\n",
       "4971               Unknown      0   \n",
       "\n",
       "                                                 genres     id  \\\n",
       "4971  [{'id': 35, 'name': 'Comedy'}, {'id': 10751, '...  21845   \n",
       "\n",
       "     original_language                                           overview  \\\n",
       "4971                en  12-year-old Henry Rowengartner, whose late fat...   \n",
       "\n",
       "      popularity                               production_companies  \\\n",
       "4971    6.961256  [{'name': 'Twentieth Century Fox Film Corporat...   \n",
       "\n",
       "                                   production_countries release_date  \\\n",
       "4971  [{'iso_3166_1': 'US', 'name': 'United States o...   1993-07-07   \n",
       "\n",
       "         revenue  runtime                                   spoken_languages  \\\n",
       "4971  53579269.0    103.0  [{'iso_639_1': 'en', 'name': 'English'}, {'iso...   \n",
       "\n",
       "        status                                            tagline  \\\n",
       "4971  Released  The Chicago Cubs needed a miracle... They got ...   \n",
       "\n",
       "                   title  vote_average  vote_count  release_year  \n",
       "4971  rookie of the year           5.8        78.0          1993  "
      ]
     },
     "execution_count": 21,
     "metadata": {},
     "output_type": "execute_result"
    }
   ],
   "source": [
    "movies_copia.sample()"
   ]
  },
  {
   "cell_type": "code",
   "execution_count": 22,
   "metadata": {},
   "outputs": [],
   "source": [
    "#disassemble genres en name\n",
    "name_genre = movies_copia[\"genres\"].apply(lambda x: divide_columns(x,\"name\"))"
   ]
  },
  {
   "cell_type": "code",
   "execution_count": 23,
   "metadata": {},
   "outputs": [],
   "source": [
    "# disassemble production_countries\n",
    "countries = movies_copia[\"production_countries\"].apply(lambda x: divide_list(x,\"name\"))"
   ]
  },
  {
   "cell_type": "code",
   "execution_count": 24,
   "metadata": {},
   "outputs": [],
   "source": [
    "#disassemble production_companies\n",
    "movies_copia.fillna({\"production_companies\":\"Unknown\"},inplace=True)\n",
    "movies_copia[\"production_companies\"]=movies_copia[\"production_companies\"].replace(\"False\",\"[]\")\n",
    "company = movies_copia[\"production_companies\"].apply(lambda x: divide_list(x,\"name\"))"
   ]
  },
  {
   "cell_type": "code",
   "execution_count": 25,
   "metadata": {},
   "outputs": [],
   "source": [
    "# disassemble spoken_language\n",
    "language = movies_copia[\"spoken_languages\"].apply(lambda x: divide_list(x,\"name\"))"
   ]
  },
  {
   "cell_type": "markdown",
   "metadata": {},
   "source": [
    "**Rename the modified columns**"
   ]
  },
  {
   "cell_type": "code",
   "execution_count": 26,
   "metadata": {},
   "outputs": [],
   "source": [
    "name_genre= pd.DataFrame(name_genre).rename(columns={\"genres\":\"name_genre\"})\n",
    "collection= pd.DataFrame(collection).rename(columns={\"belongs_to_collection\":\"collection\"})\n",
    "company= pd.DataFrame(company).rename(columns={\"production_companies\":\"company\"})\n",
    "countries= pd.DataFrame(countries).rename(columns={\"production_countries\":\"countries\"})\n",
    "language= pd.DataFrame(language).rename(columns={\"spoken_languages\":\"language\"})"
   ]
  },
  {
   "cell_type": "code",
   "execution_count": 27,
   "metadata": {},
   "outputs": [
    {
     "data": {
      "text/html": [
       "<div>\n",
       "<style scoped>\n",
       "    .dataframe tbody tr th:only-of-type {\n",
       "        vertical-align: middle;\n",
       "    }\n",
       "\n",
       "    .dataframe tbody tr th {\n",
       "        vertical-align: top;\n",
       "    }\n",
       "\n",
       "    .dataframe thead th {\n",
       "        text-align: right;\n",
       "    }\n",
       "</style>\n",
       "<table border=\"1\" class=\"dataframe\">\n",
       "  <thead>\n",
       "    <tr style=\"text-align: right;\">\n",
       "      <th></th>\n",
       "      <th>belongs_to_collection</th>\n",
       "      <th>budget</th>\n",
       "      <th>genres</th>\n",
       "      <th>id</th>\n",
       "      <th>original_language</th>\n",
       "      <th>overview</th>\n",
       "      <th>popularity</th>\n",
       "      <th>production_companies</th>\n",
       "      <th>production_countries</th>\n",
       "      <th>release_date</th>\n",
       "      <th>revenue</th>\n",
       "      <th>runtime</th>\n",
       "      <th>spoken_languages</th>\n",
       "      <th>status</th>\n",
       "      <th>tagline</th>\n",
       "      <th>title</th>\n",
       "      <th>vote_average</th>\n",
       "      <th>vote_count</th>\n",
       "      <th>release_year</th>\n",
       "    </tr>\n",
       "  </thead>\n",
       "  <tbody>\n",
       "    <tr>\n",
       "      <th>0</th>\n",
       "      <td>{'id': 10194, 'name': 'Toy Story Collection', ...</td>\n",
       "      <td>30000000</td>\n",
       "      <td>[{'id': 16, 'name': 'Animation'}, {'id': 35, '...</td>\n",
       "      <td>862</td>\n",
       "      <td>en</td>\n",
       "      <td>Led by Woody, Andy's toys live happily in his ...</td>\n",
       "      <td>21.946943</td>\n",
       "      <td>[{'name': 'Pixar Animation Studios', 'id': 3}]</td>\n",
       "      <td>[{'iso_3166_1': 'US', 'name': 'United States o...</td>\n",
       "      <td>1995-10-30</td>\n",
       "      <td>373554033.0</td>\n",
       "      <td>81.0</td>\n",
       "      <td>[{'iso_639_1': 'en', 'name': 'English'}]</td>\n",
       "      <td>Released</td>\n",
       "      <td>NaN</td>\n",
       "      <td>toy story</td>\n",
       "      <td>7.7</td>\n",
       "      <td>5415.0</td>\n",
       "      <td>1995</td>\n",
       "    </tr>\n",
       "    <tr>\n",
       "      <th>1</th>\n",
       "      <td>Unknown</td>\n",
       "      <td>65000000</td>\n",
       "      <td>[{'id': 12, 'name': 'Adventure'}, {'id': 14, '...</td>\n",
       "      <td>8844</td>\n",
       "      <td>en</td>\n",
       "      <td>When siblings Judy and Peter discover an encha...</td>\n",
       "      <td>17.015539</td>\n",
       "      <td>[{'name': 'TriStar Pictures', 'id': 559}, {'na...</td>\n",
       "      <td>[{'iso_3166_1': 'US', 'name': 'United States o...</td>\n",
       "      <td>1995-12-15</td>\n",
       "      <td>262797249.0</td>\n",
       "      <td>104.0</td>\n",
       "      <td>[{'iso_639_1': 'en', 'name': 'English'}, {'iso...</td>\n",
       "      <td>Released</td>\n",
       "      <td>Roll the dice and unleash the excitement!</td>\n",
       "      <td>jumanji</td>\n",
       "      <td>6.9</td>\n",
       "      <td>2413.0</td>\n",
       "      <td>1995</td>\n",
       "    </tr>\n",
       "    <tr>\n",
       "      <th>2</th>\n",
       "      <td>{'id': 119050, 'name': 'Grumpy Old Men Collect...</td>\n",
       "      <td>0</td>\n",
       "      <td>[{'id': 10749, 'name': 'Romance'}, {'id': 35, ...</td>\n",
       "      <td>15602</td>\n",
       "      <td>en</td>\n",
       "      <td>A family wedding reignites the ancient feud be...</td>\n",
       "      <td>11.712900</td>\n",
       "      <td>[{'name': 'Warner Bros.', 'id': 6194}, {'name'...</td>\n",
       "      <td>[{'iso_3166_1': 'US', 'name': 'United States o...</td>\n",
       "      <td>1995-12-22</td>\n",
       "      <td>0.0</td>\n",
       "      <td>101.0</td>\n",
       "      <td>[{'iso_639_1': 'en', 'name': 'English'}]</td>\n",
       "      <td>Released</td>\n",
       "      <td>Still Yelling. Still Fighting. Still Ready for...</td>\n",
       "      <td>grumpier old men</td>\n",
       "      <td>6.5</td>\n",
       "      <td>92.0</td>\n",
       "      <td>1995</td>\n",
       "    </tr>\n",
       "    <tr>\n",
       "      <th>3</th>\n",
       "      <td>Unknown</td>\n",
       "      <td>16000000</td>\n",
       "      <td>[{'id': 35, 'name': 'Comedy'}, {'id': 18, 'nam...</td>\n",
       "      <td>31357</td>\n",
       "      <td>en</td>\n",
       "      <td>Cheated on, mistreated and stepped on, the wom...</td>\n",
       "      <td>3.859495</td>\n",
       "      <td>[{'name': 'Twentieth Century Fox Film Corporat...</td>\n",
       "      <td>[{'iso_3166_1': 'US', 'name': 'United States o...</td>\n",
       "      <td>1995-12-22</td>\n",
       "      <td>81452156.0</td>\n",
       "      <td>127.0</td>\n",
       "      <td>[{'iso_639_1': 'en', 'name': 'English'}]</td>\n",
       "      <td>Released</td>\n",
       "      <td>Friends are the people who let you be yourself...</td>\n",
       "      <td>waiting to exhale</td>\n",
       "      <td>6.1</td>\n",
       "      <td>34.0</td>\n",
       "      <td>1995</td>\n",
       "    </tr>\n",
       "    <tr>\n",
       "      <th>4</th>\n",
       "      <td>{'id': 96871, 'name': 'Father of the Bride Col...</td>\n",
       "      <td>0</td>\n",
       "      <td>[{'id': 35, 'name': 'Comedy'}]</td>\n",
       "      <td>11862</td>\n",
       "      <td>en</td>\n",
       "      <td>Just when George Banks has recovered from his ...</td>\n",
       "      <td>8.387519</td>\n",
       "      <td>[{'name': 'Sandollar Productions', 'id': 5842}...</td>\n",
       "      <td>[{'iso_3166_1': 'US', 'name': 'United States o...</td>\n",
       "      <td>1995-02-10</td>\n",
       "      <td>76578911.0</td>\n",
       "      <td>106.0</td>\n",
       "      <td>[{'iso_639_1': 'en', 'name': 'English'}]</td>\n",
       "      <td>Released</td>\n",
       "      <td>Just When His World Is Back To Normal... He's ...</td>\n",
       "      <td>father of the bride part ii</td>\n",
       "      <td>5.7</td>\n",
       "      <td>173.0</td>\n",
       "      <td>1995</td>\n",
       "    </tr>\n",
       "  </tbody>\n",
       "</table>\n",
       "</div>"
      ],
      "text/plain": [
       "                               belongs_to_collection    budget  \\\n",
       "0  {'id': 10194, 'name': 'Toy Story Collection', ...  30000000   \n",
       "1                                            Unknown  65000000   \n",
       "2  {'id': 119050, 'name': 'Grumpy Old Men Collect...         0   \n",
       "3                                            Unknown  16000000   \n",
       "4  {'id': 96871, 'name': 'Father of the Bride Col...         0   \n",
       "\n",
       "                                              genres     id original_language  \\\n",
       "0  [{'id': 16, 'name': 'Animation'}, {'id': 35, '...    862                en   \n",
       "1  [{'id': 12, 'name': 'Adventure'}, {'id': 14, '...   8844                en   \n",
       "2  [{'id': 10749, 'name': 'Romance'}, {'id': 35, ...  15602                en   \n",
       "3  [{'id': 35, 'name': 'Comedy'}, {'id': 18, 'nam...  31357                en   \n",
       "4                     [{'id': 35, 'name': 'Comedy'}]  11862                en   \n",
       "\n",
       "                                            overview  popularity  \\\n",
       "0  Led by Woody, Andy's toys live happily in his ...   21.946943   \n",
       "1  When siblings Judy and Peter discover an encha...   17.015539   \n",
       "2  A family wedding reignites the ancient feud be...   11.712900   \n",
       "3  Cheated on, mistreated and stepped on, the wom...    3.859495   \n",
       "4  Just when George Banks has recovered from his ...    8.387519   \n",
       "\n",
       "                                production_companies  \\\n",
       "0     [{'name': 'Pixar Animation Studios', 'id': 3}]   \n",
       "1  [{'name': 'TriStar Pictures', 'id': 559}, {'na...   \n",
       "2  [{'name': 'Warner Bros.', 'id': 6194}, {'name'...   \n",
       "3  [{'name': 'Twentieth Century Fox Film Corporat...   \n",
       "4  [{'name': 'Sandollar Productions', 'id': 5842}...   \n",
       "\n",
       "                                production_countries release_date  \\\n",
       "0  [{'iso_3166_1': 'US', 'name': 'United States o...   1995-10-30   \n",
       "1  [{'iso_3166_1': 'US', 'name': 'United States o...   1995-12-15   \n",
       "2  [{'iso_3166_1': 'US', 'name': 'United States o...   1995-12-22   \n",
       "3  [{'iso_3166_1': 'US', 'name': 'United States o...   1995-12-22   \n",
       "4  [{'iso_3166_1': 'US', 'name': 'United States o...   1995-02-10   \n",
       "\n",
       "       revenue  runtime                                   spoken_languages  \\\n",
       "0  373554033.0     81.0           [{'iso_639_1': 'en', 'name': 'English'}]   \n",
       "1  262797249.0    104.0  [{'iso_639_1': 'en', 'name': 'English'}, {'iso...   \n",
       "2          0.0    101.0           [{'iso_639_1': 'en', 'name': 'English'}]   \n",
       "3   81452156.0    127.0           [{'iso_639_1': 'en', 'name': 'English'}]   \n",
       "4   76578911.0    106.0           [{'iso_639_1': 'en', 'name': 'English'}]   \n",
       "\n",
       "     status                                            tagline  \\\n",
       "0  Released                                                NaN   \n",
       "1  Released          Roll the dice and unleash the excitement!   \n",
       "2  Released  Still Yelling. Still Fighting. Still Ready for...   \n",
       "3  Released  Friends are the people who let you be yourself...   \n",
       "4  Released  Just When His World Is Back To Normal... He's ...   \n",
       "\n",
       "                         title  vote_average  vote_count  release_year  \n",
       "0                    toy story           7.7      5415.0          1995  \n",
       "1                      jumanji           6.9      2413.0          1995  \n",
       "2             grumpier old men           6.5        92.0          1995  \n",
       "3            waiting to exhale           6.1        34.0          1995  \n",
       "4  father of the bride part ii           5.7       173.0          1995  "
      ]
     },
     "execution_count": 27,
     "metadata": {},
     "output_type": "execute_result"
    }
   ],
   "source": [
    "movies_copia.head()"
   ]
  },
  {
   "cell_type": "markdown",
   "metadata": {},
   "source": [
    "* Concatenate the new columns"
   ]
  },
  {
   "cell_type": "code",
   "execution_count": 28,
   "metadata": {},
   "outputs": [],
   "source": [
    "movies_copia = pd.concat([movies_copia,name_genre,collection,company,countries,language],axis=1)"
   ]
  },
  {
   "cell_type": "markdown",
   "metadata": {},
   "source": [
    "* Create Inversion Return column: `return`"
   ]
  },
  {
   "cell_type": "code",
   "execution_count": 29,
   "metadata": {},
   "outputs": [
    {
     "name": "stdout",
     "output_type": "stream",
     "text": [
      "<class 'pandas.core.frame.DataFrame'>\n",
      "Index: 42196 entries, 0 to 45465\n",
      "Data columns (total 2 columns):\n",
      " #   Column   Non-Null Count  Dtype  \n",
      "---  ------   --------------  -----  \n",
      " 0   revenue  42196 non-null  float64\n",
      " 1   budget   42196 non-null  object \n",
      "dtypes: float64(1), object(1)\n",
      "memory usage: 989.0+ KB\n"
     ]
    }
   ],
   "source": [
    "movies_copia[[\"revenue\",\"budget\"]].info() #revenue --> float64 #budget -->  object\n",
    "\n",
    "movies_copia[\"budget\"]=movies_copia[\"budget\"].astype(\"Float64\")\n",
    "\n",
    "returns = np.where(movies_copia[\"budget\"]==0,np.nan,movies_copia[\"revenue\"]/movies_copia[\"budget\"])\n",
    "movies_copia[\"return\"] = returns\n",
    "movies_copia.fillna({\"return\":0},inplace=True)"
   ]
  },
  {
   "cell_type": "markdown",
   "metadata": {},
   "source": [
    "* Drop the columns we are not gonna use"
   ]
  },
  {
   "cell_type": "code",
   "execution_count": 30,
   "metadata": {},
   "outputs": [],
   "source": [
    "movies_copia = movies_copia.drop(columns=[\"belongs_to_collection\",\"genres\",\"production_companies\",\"production_countries\",\"spoken_languages\"])"
   ]
  },
  {
   "cell_type": "code",
   "execution_count": 31,
   "metadata": {},
   "outputs": [
    {
     "data": {
      "text/html": [
       "<div>\n",
       "<style scoped>\n",
       "    .dataframe tbody tr th:only-of-type {\n",
       "        vertical-align: middle;\n",
       "    }\n",
       "\n",
       "    .dataframe tbody tr th {\n",
       "        vertical-align: top;\n",
       "    }\n",
       "\n",
       "    .dataframe thead th {\n",
       "        text-align: right;\n",
       "    }\n",
       "</style>\n",
       "<table border=\"1\" class=\"dataframe\">\n",
       "  <thead>\n",
       "    <tr style=\"text-align: right;\">\n",
       "      <th></th>\n",
       "      <th>budget</th>\n",
       "      <th>id</th>\n",
       "      <th>original_language</th>\n",
       "      <th>overview</th>\n",
       "      <th>popularity</th>\n",
       "      <th>release_date</th>\n",
       "      <th>revenue</th>\n",
       "      <th>runtime</th>\n",
       "      <th>status</th>\n",
       "      <th>tagline</th>\n",
       "      <th>title</th>\n",
       "      <th>vote_average</th>\n",
       "      <th>vote_count</th>\n",
       "      <th>release_year</th>\n",
       "      <th>name_genre</th>\n",
       "      <th>collection</th>\n",
       "      <th>company</th>\n",
       "      <th>countries</th>\n",
       "      <th>language</th>\n",
       "      <th>return</th>\n",
       "    </tr>\n",
       "  </thead>\n",
       "  <tbody>\n",
       "    <tr>\n",
       "      <th>0</th>\n",
       "      <td>30000000.0</td>\n",
       "      <td>862</td>\n",
       "      <td>en</td>\n",
       "      <td>Led by Woody, Andy's toys live happily in his ...</td>\n",
       "      <td>21.946943</td>\n",
       "      <td>1995-10-30</td>\n",
       "      <td>373554033.0</td>\n",
       "      <td>81.0</td>\n",
       "      <td>Released</td>\n",
       "      <td>NaN</td>\n",
       "      <td>toy story</td>\n",
       "      <td>7.7</td>\n",
       "      <td>5415.0</td>\n",
       "      <td>1995</td>\n",
       "      <td>[Comedy, Animation, Family]</td>\n",
       "      <td>Toy Story Collection</td>\n",
       "      <td>Pixar Animation Studios</td>\n",
       "      <td>United States of America</td>\n",
       "      <td>English</td>\n",
       "      <td>12.451801</td>\n",
       "    </tr>\n",
       "    <tr>\n",
       "      <th>1</th>\n",
       "      <td>65000000.0</td>\n",
       "      <td>8844</td>\n",
       "      <td>en</td>\n",
       "      <td>When siblings Judy and Peter discover an encha...</td>\n",
       "      <td>17.015539</td>\n",
       "      <td>1995-12-15</td>\n",
       "      <td>262797249.0</td>\n",
       "      <td>104.0</td>\n",
       "      <td>Released</td>\n",
       "      <td>Roll the dice and unleash the excitement!</td>\n",
       "      <td>jumanji</td>\n",
       "      <td>6.9</td>\n",
       "      <td>2413.0</td>\n",
       "      <td>1995</td>\n",
       "      <td>[Adventure, Fantasy, Family]</td>\n",
       "      <td>[]</td>\n",
       "      <td>TriStar Pictures Teitler Film Interscope Commu...</td>\n",
       "      <td>United States of America</td>\n",
       "      <td>English Français</td>\n",
       "      <td>4.043035</td>\n",
       "    </tr>\n",
       "  </tbody>\n",
       "</table>\n",
       "</div>"
      ],
      "text/plain": [
       "       budget    id original_language  \\\n",
       "0  30000000.0   862                en   \n",
       "1  65000000.0  8844                en   \n",
       "\n",
       "                                            overview  popularity release_date  \\\n",
       "0  Led by Woody, Andy's toys live happily in his ...   21.946943   1995-10-30   \n",
       "1  When siblings Judy and Peter discover an encha...   17.015539   1995-12-15   \n",
       "\n",
       "       revenue  runtime    status                                    tagline  \\\n",
       "0  373554033.0     81.0  Released                                        NaN   \n",
       "1  262797249.0    104.0  Released  Roll the dice and unleash the excitement!   \n",
       "\n",
       "       title  vote_average  vote_count  release_year  \\\n",
       "0  toy story           7.7      5415.0          1995   \n",
       "1    jumanji           6.9      2413.0          1995   \n",
       "\n",
       "                     name_genre            collection  \\\n",
       "0   [Comedy, Animation, Family]  Toy Story Collection   \n",
       "1  [Adventure, Fantasy, Family]                    []   \n",
       "\n",
       "                                             company  \\\n",
       "0                            Pixar Animation Studios   \n",
       "1  TriStar Pictures Teitler Film Interscope Commu...   \n",
       "\n",
       "                  countries          language     return  \n",
       "0  United States of America           English  12.451801  \n",
       "1  United States of America  English Français   4.043035  "
      ]
     },
     "execution_count": 31,
     "metadata": {},
     "output_type": "execute_result"
    }
   ],
   "source": [
    "movies_copia.head(2)"
   ]
  },
  {
   "cell_type": "markdown",
   "metadata": {},
   "source": [
    "## DF credits - ETL\n",
    "* <p>Make a copy of the original dataframe to prevent mistakes<p>"
   ]
  },
  {
   "cell_type": "code",
   "execution_count": 32,
   "metadata": {},
   "outputs": [
    {
     "data": {
      "text/plain": [
       "(45476, 3)"
      ]
     },
     "execution_count": 32,
     "metadata": {},
     "output_type": "execute_result"
    }
   ],
   "source": [
    "credits_copy = credits.copy()\n",
    "credits_copy.shape"
   ]
  },
  {
   "cell_type": "markdown",
   "metadata": {},
   "source": [
    "* Extract the actors names"
   ]
  },
  {
   "cell_type": "code",
   "execution_count": 33,
   "metadata": {},
   "outputs": [],
   "source": [
    "credits_copy[\"actors_names\"] = credits_copy[\"cast\"].apply(lambda x: divide_columns(x,\"name\"))"
   ]
  },
  {
   "cell_type": "markdown",
   "metadata": {},
   "source": [
    "* Extract the directors names"
   ]
  },
  {
   "cell_type": "code",
   "execution_count": 34,
   "metadata": {},
   "outputs": [],
   "source": [
    "credits_copy[\"director_names\"]=credits_copy[\"crew\"].apply(lambda x: divide_columns(x,\"name\",\"job\",\"Director\"))"
   ]
  },
  {
   "cell_type": "markdown",
   "metadata": {},
   "source": [
    "### Merfe between <i>credits_copy</i> and <i>movies_copy</i> using the `id` column"
   ]
  },
  {
   "cell_type": "code",
   "execution_count": 35,
   "metadata": {},
   "outputs": [],
   "source": [
    "cast_and_crew = credits_copy[[\"id\",\"actors_names\",\"director_names\"]]\n",
    "\n",
    "movies_merged = movies_copia.merge(cast_and_crew,on=\"id\",how=\"inner\") #Merge utilizando el id\n"
   ]
  },
  {
   "cell_type": "code",
   "execution_count": 36,
   "metadata": {},
   "outputs": [
    {
     "data": {
      "text/html": [
       "<div>\n",
       "<style scoped>\n",
       "    .dataframe tbody tr th:only-of-type {\n",
       "        vertical-align: middle;\n",
       "    }\n",
       "\n",
       "    .dataframe tbody tr th {\n",
       "        vertical-align: top;\n",
       "    }\n",
       "\n",
       "    .dataframe thead th {\n",
       "        text-align: right;\n",
       "    }\n",
       "</style>\n",
       "<table border=\"1\" class=\"dataframe\">\n",
       "  <thead>\n",
       "    <tr style=\"text-align: right;\">\n",
       "      <th></th>\n",
       "      <th>budget</th>\n",
       "      <th>id</th>\n",
       "      <th>original_language</th>\n",
       "      <th>overview</th>\n",
       "      <th>popularity</th>\n",
       "      <th>release_date</th>\n",
       "      <th>revenue</th>\n",
       "      <th>runtime</th>\n",
       "      <th>status</th>\n",
       "      <th>tagline</th>\n",
       "      <th>title</th>\n",
       "      <th>vote_average</th>\n",
       "      <th>vote_count</th>\n",
       "      <th>release_year</th>\n",
       "      <th>name_genre</th>\n",
       "      <th>collection</th>\n",
       "      <th>company</th>\n",
       "      <th>countries</th>\n",
       "      <th>language</th>\n",
       "      <th>return</th>\n",
       "      <th>actors_names</th>\n",
       "      <th>director_names</th>\n",
       "    </tr>\n",
       "  </thead>\n",
       "  <tbody>\n",
       "    <tr>\n",
       "      <th>0</th>\n",
       "      <td>30000000.0</td>\n",
       "      <td>862</td>\n",
       "      <td>en</td>\n",
       "      <td>Led by Woody, Andy's toys live happily in his ...</td>\n",
       "      <td>21.946943</td>\n",
       "      <td>1995-10-30</td>\n",
       "      <td>373554033.0</td>\n",
       "      <td>81.0</td>\n",
       "      <td>Released</td>\n",
       "      <td>NaN</td>\n",
       "      <td>toy story</td>\n",
       "      <td>7.7</td>\n",
       "      <td>5415.0</td>\n",
       "      <td>1995</td>\n",
       "      <td>[Comedy, Animation, Family]</td>\n",
       "      <td>Toy Story Collection</td>\n",
       "      <td>Pixar Animation Studios</td>\n",
       "      <td>United States of America</td>\n",
       "      <td>English</td>\n",
       "      <td>12.451801</td>\n",
       "      <td>[Laurie Metcalf, Tom Hanks, Sarah Freeman, Pen...</td>\n",
       "      <td>[John Lasseter]</td>\n",
       "    </tr>\n",
       "    <tr>\n",
       "      <th>1</th>\n",
       "      <td>65000000.0</td>\n",
       "      <td>8844</td>\n",
       "      <td>en</td>\n",
       "      <td>When siblings Judy and Peter discover an encha...</td>\n",
       "      <td>17.015539</td>\n",
       "      <td>1995-12-15</td>\n",
       "      <td>262797249.0</td>\n",
       "      <td>104.0</td>\n",
       "      <td>Released</td>\n",
       "      <td>Roll the dice and unleash the excitement!</td>\n",
       "      <td>jumanji</td>\n",
       "      <td>6.9</td>\n",
       "      <td>2413.0</td>\n",
       "      <td>1995</td>\n",
       "      <td>[Adventure, Fantasy, Family]</td>\n",
       "      <td>[]</td>\n",
       "      <td>TriStar Pictures Teitler Film Interscope Commu...</td>\n",
       "      <td>United States of America</td>\n",
       "      <td>English Français</td>\n",
       "      <td>4.043035</td>\n",
       "      <td>[Adam Hann-Byrd, Sarah Gilson, Kirsten Dunst, ...</td>\n",
       "      <td>[Joe Johnston]</td>\n",
       "    </tr>\n",
       "    <tr>\n",
       "      <th>2</th>\n",
       "      <td>0.0</td>\n",
       "      <td>15602</td>\n",
       "      <td>en</td>\n",
       "      <td>A family wedding reignites the ancient feud be...</td>\n",
       "      <td>11.712900</td>\n",
       "      <td>1995-12-22</td>\n",
       "      <td>0.0</td>\n",
       "      <td>101.0</td>\n",
       "      <td>Released</td>\n",
       "      <td>Still Yelling. Still Fighting. Still Ready for...</td>\n",
       "      <td>grumpier old men</td>\n",
       "      <td>6.5</td>\n",
       "      <td>92.0</td>\n",
       "      <td>1995</td>\n",
       "      <td>[Comedy, Romance]</td>\n",
       "      <td>Grumpy Old Men Collection</td>\n",
       "      <td>Warner Bros. Lancaster Gate</td>\n",
       "      <td>United States of America</td>\n",
       "      <td>English</td>\n",
       "      <td>0.000000</td>\n",
       "      <td>[Walter Matthau, Sophia Loren, Jack Lemmon, Ke...</td>\n",
       "      <td>[Howard Deutch]</td>\n",
       "    </tr>\n",
       "    <tr>\n",
       "      <th>3</th>\n",
       "      <td>16000000.0</td>\n",
       "      <td>31357</td>\n",
       "      <td>en</td>\n",
       "      <td>Cheated on, mistreated and stepped on, the wom...</td>\n",
       "      <td>3.859495</td>\n",
       "      <td>1995-12-22</td>\n",
       "      <td>81452156.0</td>\n",
       "      <td>127.0</td>\n",
       "      <td>Released</td>\n",
       "      <td>Friends are the people who let you be yourself...</td>\n",
       "      <td>waiting to exhale</td>\n",
       "      <td>6.1</td>\n",
       "      <td>34.0</td>\n",
       "      <td>1995</td>\n",
       "      <td>[Comedy, Drama, Romance]</td>\n",
       "      <td>[]</td>\n",
       "      <td>Twentieth Century Fox Film Corporation</td>\n",
       "      <td>United States of America</td>\n",
       "      <td>English</td>\n",
       "      <td>5.090760</td>\n",
       "      <td>[Lamont Johnson, Whitney Houston, Mykelti Will...</td>\n",
       "      <td>[Forest Whitaker]</td>\n",
       "    </tr>\n",
       "    <tr>\n",
       "      <th>4</th>\n",
       "      <td>0.0</td>\n",
       "      <td>11862</td>\n",
       "      <td>en</td>\n",
       "      <td>Just when George Banks has recovered from his ...</td>\n",
       "      <td>8.387519</td>\n",
       "      <td>1995-02-10</td>\n",
       "      <td>76578911.0</td>\n",
       "      <td>106.0</td>\n",
       "      <td>Released</td>\n",
       "      <td>Just When His World Is Back To Normal... He's ...</td>\n",
       "      <td>father of the bride part ii</td>\n",
       "      <td>5.7</td>\n",
       "      <td>173.0</td>\n",
       "      <td>1995</td>\n",
       "      <td>[Comedy]</td>\n",
       "      <td>Father of the Bride Collection</td>\n",
       "      <td>Sandollar Productions Touchstone Pictures</td>\n",
       "      <td>United States of America</td>\n",
       "      <td>English</td>\n",
       "      <td>0.000000</td>\n",
       "      <td>[Eugene Levy, Jane Adams, Diane Keaton, Lori A...</td>\n",
       "      <td>[Charles Shyer]</td>\n",
       "    </tr>\n",
       "  </tbody>\n",
       "</table>\n",
       "</div>"
      ],
      "text/plain": [
       "       budget     id original_language  \\\n",
       "0  30000000.0    862                en   \n",
       "1  65000000.0   8844                en   \n",
       "2         0.0  15602                en   \n",
       "3  16000000.0  31357                en   \n",
       "4         0.0  11862                en   \n",
       "\n",
       "                                            overview  popularity release_date  \\\n",
       "0  Led by Woody, Andy's toys live happily in his ...   21.946943   1995-10-30   \n",
       "1  When siblings Judy and Peter discover an encha...   17.015539   1995-12-15   \n",
       "2  A family wedding reignites the ancient feud be...   11.712900   1995-12-22   \n",
       "3  Cheated on, mistreated and stepped on, the wom...    3.859495   1995-12-22   \n",
       "4  Just when George Banks has recovered from his ...    8.387519   1995-02-10   \n",
       "\n",
       "       revenue  runtime    status  \\\n",
       "0  373554033.0     81.0  Released   \n",
       "1  262797249.0    104.0  Released   \n",
       "2          0.0    101.0  Released   \n",
       "3   81452156.0    127.0  Released   \n",
       "4   76578911.0    106.0  Released   \n",
       "\n",
       "                                             tagline  \\\n",
       "0                                                NaN   \n",
       "1          Roll the dice and unleash the excitement!   \n",
       "2  Still Yelling. Still Fighting. Still Ready for...   \n",
       "3  Friends are the people who let you be yourself...   \n",
       "4  Just When His World Is Back To Normal... He's ...   \n",
       "\n",
       "                         title  vote_average  vote_count  release_year  \\\n",
       "0                    toy story           7.7      5415.0          1995   \n",
       "1                      jumanji           6.9      2413.0          1995   \n",
       "2             grumpier old men           6.5        92.0          1995   \n",
       "3            waiting to exhale           6.1        34.0          1995   \n",
       "4  father of the bride part ii           5.7       173.0          1995   \n",
       "\n",
       "                     name_genre                      collection  \\\n",
       "0   [Comedy, Animation, Family]            Toy Story Collection   \n",
       "1  [Adventure, Fantasy, Family]                              []   \n",
       "2             [Comedy, Romance]       Grumpy Old Men Collection   \n",
       "3      [Comedy, Drama, Romance]                              []   \n",
       "4                      [Comedy]  Father of the Bride Collection   \n",
       "\n",
       "                                             company  \\\n",
       "0                            Pixar Animation Studios   \n",
       "1  TriStar Pictures Teitler Film Interscope Commu...   \n",
       "2                        Warner Bros. Lancaster Gate   \n",
       "3             Twentieth Century Fox Film Corporation   \n",
       "4          Sandollar Productions Touchstone Pictures   \n",
       "\n",
       "                  countries          language     return  \\\n",
       "0  United States of America           English  12.451801   \n",
       "1  United States of America  English Français   4.043035   \n",
       "2  United States of America           English   0.000000   \n",
       "3  United States of America           English   5.090760   \n",
       "4  United States of America           English   0.000000   \n",
       "\n",
       "                                        actors_names     director_names  \n",
       "0  [Laurie Metcalf, Tom Hanks, Sarah Freeman, Pen...    [John Lasseter]  \n",
       "1  [Adam Hann-Byrd, Sarah Gilson, Kirsten Dunst, ...     [Joe Johnston]  \n",
       "2  [Walter Matthau, Sophia Loren, Jack Lemmon, Ke...    [Howard Deutch]  \n",
       "3  [Lamont Johnson, Whitney Houston, Mykelti Will...  [Forest Whitaker]  \n",
       "4  [Eugene Levy, Jane Adams, Diane Keaton, Lori A...    [Charles Shyer]  "
      ]
     },
     "execution_count": 36,
     "metadata": {},
     "output_type": "execute_result"
    }
   ],
   "source": [
    "movies_merged.head()"
   ]
  },
  {
   "cell_type": "markdown",
   "metadata": {},
   "source": [
    "## Save\n",
    "<p>Before saving select the columns to be used depending on the goals</p>"
   ]
  },
  {
   "cell_type": "code",
   "execution_count": 37,
   "metadata": {},
   "outputs": [],
   "source": [
    "# Posible data to be used in the recommendation system\n",
    "rec_system = movies_merged[[\"title\",\"overview\",\"name_genre\",\"tagline\",\"release_year\",\"vote_average\"]]"
   ]
  },
  {
   "cell_type": "code",
   "execution_count": 38,
   "metadata": {},
   "outputs": [],
   "source": [
    "# Data to be used to develop the API\n",
    "movies_merged_api = movies_merged[[\"title\",\"revenue\",\"budget\",\"return\",\"vote_average\",\"vote_count\",\"release_date\",\"release_year\",\"actors_names\",\"director_names\"]]"
   ]
  },
  {
   "cell_type": "markdown",
   "metadata": {},
   "source": [
    "* Recommendation System Dataset"
   ]
  },
  {
   "cell_type": "code",
   "execution_count": 39,
   "metadata": {},
   "outputs": [],
   "source": [
    "rec_system.to_parquet(\"../datasets/rec_system.parquet\")"
   ]
  },
  {
   "cell_type": "markdown",
   "metadata": {},
   "source": [
    "* API Dataset"
   ]
  },
  {
   "cell_type": "code",
   "execution_count": 40,
   "metadata": {},
   "outputs": [],
   "source": [
    "# movies_merged.to_csv(path_or_buf=\"../datasets/movies_merged.csv\")\n",
    "movies_merged_api.to_parquet(\"../datasets/movies_merged.parquet\")\n"
   ]
  },
  {
   "cell_type": "markdown",
   "metadata": {},
   "source": [
    "* EDA Dataset"
   ]
  },
  {
   "cell_type": "code",
   "execution_count": 41,
   "metadata": {},
   "outputs": [],
   "source": [
    "movies_merged.to_parquet(\"../datasets/movies_eda.parquet\")\n",
    "# movies_merged.to_csv(\"../datasets/movies_eda.csv\")"
   ]
  }
 ],
 "metadata": {
  "kernelspec": {
   "display_name": "Python 3",
   "language": "python",
   "name": "python3"
  },
  "language_info": {
   "codemirror_mode": {
    "name": "ipython",
    "version": 3
   },
   "file_extension": ".py",
   "mimetype": "text/x-python",
   "name": "python",
   "nbconvert_exporter": "python",
   "pygments_lexer": "ipython3",
   "version": "3.12.3"
  }
 },
 "nbformat": 4,
 "nbformat_minor": 2
}
